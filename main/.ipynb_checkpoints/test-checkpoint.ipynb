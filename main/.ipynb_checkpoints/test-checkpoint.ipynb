{
 "cells": [
  {
   "cell_type": "code",
   "execution_count": null,
   "id": "2193a3e3",
   "metadata": {
    "ExecuteTime": {
     "end_time": "2022-03-21T14:10:26.914438Z",
     "start_time": "2022-03-21T14:10:15.217937Z"
    }
   },
   "outputs": [],
   "source": [
    "import pandas as pd\n",
    "\n",
    "X_train = pd.read_csv('../data/X_train.csv')"
   ]
  },
  {
   "cell_type": "code",
   "execution_count": null,
   "id": "c9044e75",
   "metadata": {
    "ExecuteTime": {
     "end_time": "2022-03-21T14:10:27.875440Z",
     "start_time": "2022-03-21T14:10:26.946440Z"
    }
   },
   "outputs": [],
   "source": [
    "import sys\n",
    "sys.path.append('../tools/')\n",
    "from text_preprocessor import preprocessor as pp\n",
    "p = pp()\n",
    "p.fit_transform([X_train.iloc[0].Text])"
   ]
  },
  {
   "cell_type": "code",
   "execution_count": null,
   "id": "ecf1f38d",
   "metadata": {
    "ExecuteTime": {
     "end_time": "2022-03-21T14:11:30.898216Z",
     "start_time": "2022-03-21T14:11:30.889218Z"
    }
   },
   "outputs": [],
   "source": [
    "from model_manager import model_manager as mm\n",
    "tv_mm = mm('tv', '../models')"
   ]
  },
  {
   "cell_type": "code",
   "execution_count": null,
   "id": "dbccbd42",
   "metadata": {
    "ExecuteTime": {
     "end_time": "2022-03-21T14:11:36.091216Z",
     "start_time": "2022-03-21T14:11:35.017721Z"
    }
   },
   "outputs": [],
   "source": [
    "tv_mm.load()"
   ]
  },
  {
   "cell_type": "code",
   "execution_count": null,
   "id": "e64ffbbc",
   "metadata": {},
   "outputs": [],
   "source": []
  }
 ],
 "metadata": {
  "kernelspec": {
   "display_name": "Python 3",
   "language": "python",
   "name": "python3"
  },
  "language_info": {
   "codemirror_mode": {
    "name": "ipython",
    "version": 3
   },
   "file_extension": ".py",
   "mimetype": "text/x-python",
   "name": "python",
   "nbconvert_exporter": "python",
   "pygments_lexer": "ipython3",
   "version": "3.8.11"
  },
  "varInspector": {
   "cols": {
    "lenName": 16,
    "lenType": 16,
    "lenVar": 40
   },
   "kernels_config": {
    "python": {
     "delete_cmd_postfix": "",
     "delete_cmd_prefix": "del ",
     "library": "var_list.py",
     "varRefreshCmd": "print(var_dic_list())"
    },
    "r": {
     "delete_cmd_postfix": ") ",
     "delete_cmd_prefix": "rm(",
     "library": "var_list.r",
     "varRefreshCmd": "cat(var_dic_list()) "
    }
   },
   "types_to_exclude": [
    "module",
    "function",
    "builtin_function_or_method",
    "instance",
    "_Feature"
   ],
   "window_display": false
  }
 },
 "nbformat": 4,
 "nbformat_minor": 5
}
