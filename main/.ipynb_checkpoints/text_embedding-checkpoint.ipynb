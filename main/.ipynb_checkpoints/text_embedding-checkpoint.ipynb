{
 "cells": [
  {
   "cell_type": "code",
   "execution_count": 49,
   "id": "3779b79f",
   "metadata": {
    "ExecuteTime": {
     "end_time": "2022-03-21T14:04:27.082984Z",
     "start_time": "2022-03-21T14:04:15.392976Z"
    }
   },
   "outputs": [],
   "source": [
    "import pandas as pd\n",
    "\n",
    "X_train = pd.read_csv('../data/X_train.csv')"
   ]
  },
  {
   "cell_type": "code",
   "execution_count": 2,
   "id": "90799a5f",
   "metadata": {
    "ExecuteTime": {
     "end_time": "2022-03-21T12:38:05.133356Z",
     "start_time": "2022-03-21T12:38:04.854475Z"
    },
    "scrolled": true
   },
   "outputs": [
    {
     "data": {
      "text/plain": [
       "0"
      ]
     },
     "execution_count": 2,
     "metadata": {},
     "output_type": "execute_result"
    }
   ],
   "source": [
    "s = X_train[['Text']].sample(500000).values\n",
    "import gc\n",
    "del X_train\n",
    "gc.collect()"
   ]
  },
  {
   "cell_type": "code",
   "execution_count": 3,
   "id": "0a37942b",
   "metadata": {
    "ExecuteTime": {
     "end_time": "2022-03-21T12:38:05.319840Z",
     "start_time": "2022-03-21T12:38:05.305556Z"
    }
   },
   "outputs": [],
   "source": [
    "from tqdm import tqdm"
   ]
  },
  {
   "cell_type": "code",
   "execution_count": 4,
   "id": "8595607c",
   "metadata": {
    "ExecuteTime": {
     "end_time": "2022-03-21T12:38:06.280005Z",
     "start_time": "2022-03-21T12:38:05.492040Z"
    }
   },
   "outputs": [],
   "source": [
    "import nltk\n",
    "from nltk.corpus import stopwords\n",
    "stop_words = stopwords.words('english')\n",
    "stop_words.extend(['from', 'subject', 're', 'edu', 'use'])"
   ]
  },
  {
   "cell_type": "code",
   "execution_count": 5,
   "id": "407be406",
   "metadata": {
    "ExecuteTime": {
     "end_time": "2022-03-21T12:38:06.573121Z",
     "start_time": "2022-03-21T12:38:06.450482Z"
    }
   },
   "outputs": [],
   "source": [
    "import gensim\n",
    "from gensim.utils import simple_preprocess"
   ]
  },
  {
   "cell_type": "code",
   "execution_count": 6,
   "id": "5944f92e",
   "metadata": {
    "ExecuteTime": {
     "end_time": "2022-03-21T12:38:06.759601Z",
     "start_time": "2022-03-21T12:38:06.745322Z"
    }
   },
   "outputs": [],
   "source": [
    "from nltk.stem.porter import PorterStemmer\n",
    "p_stemmer = PorterStemmer()"
   ]
  },
  {
   "cell_type": "code",
   "execution_count": 7,
   "id": "59b106dc",
   "metadata": {
    "ExecuteTime": {
     "end_time": "2022-03-21T12:38:06.946081Z",
     "start_time": "2022-03-21T12:38:06.932637Z"
    }
   },
   "outputs": [],
   "source": [
    "def sent_to_words(sentence):\n",
    "    return gensim.utils.simple_preprocess(str(sentence), deacc=True)\n",
    "\n",
    "def remove_stopwords(text):\n",
    "    text = sent_to_words(text)\n",
    "    return [p_stemmer.stem(word) for word in simple_preprocess(str(text)) if word not in stop_words]"
   ]
  },
  {
   "cell_type": "code",
   "execution_count": 8,
   "id": "f17eec8e",
   "metadata": {
    "ExecuteTime": {
     "end_time": "2022-03-21T12:38:07.132563Z",
     "start_time": "2022-03-21T12:38:07.117442Z"
    }
   },
   "outputs": [],
   "source": [
    "def remove_punc(x):\n",
    "    return re.sub('[,\\.!?]', '', str(x)).lower()"
   ]
  },
  {
   "cell_type": "code",
   "execution_count": 9,
   "id": "3f36e923",
   "metadata": {
    "ExecuteTime": {
     "end_time": "2022-03-21T12:38:19.691135Z",
     "start_time": "2022-03-21T12:38:07.304762Z"
    }
   },
   "outputs": [
    {
     "name": "stderr",
     "output_type": "stream",
     "text": [
      "100%|██████████| 500000/500000 [00:12<00:00, 40832.29it/s]\n"
     ]
    }
   ],
   "source": [
    "import re\n",
    "s = [re.sub('[,\\.!?]', '', str(i)).lower() for i in tqdm(s)]"
   ]
  },
  {
   "cell_type": "code",
   "execution_count": 10,
   "id": "c3701aad",
   "metadata": {
    "ExecuteTime": {
     "end_time": "2022-03-21T12:54:38.409060Z",
     "start_time": "2022-03-21T12:38:48.402112Z"
    }
   },
   "outputs": [
    {
     "name": "stderr",
     "output_type": "stream",
     "text": [
      "100%|██████████| 500000/500000 [15:49<00:00, 526.38it/s]\n"
     ]
    }
   ],
   "source": [
    "s = [remove_stopwords(i) for i in tqdm(s)]"
   ]
  },
  {
   "cell_type": "code",
   "execution_count": 28,
   "id": "5772cf68",
   "metadata": {
    "ExecuteTime": {
     "end_time": "2022-03-21T13:45:33.497849Z",
     "start_time": "2022-03-21T13:45:33.490850Z"
    }
   },
   "outputs": [],
   "source": [
    "from sklearn import feature_extraction    \n",
    "from sklearn.feature_extraction.text import TfidfVectorizer "
   ]
  },
  {
   "cell_type": "code",
   "execution_count": 25,
   "id": "7304f55a",
   "metadata": {
    "ExecuteTime": {
     "end_time": "2022-03-21T13:43:25.065330Z",
     "start_time": "2022-03-21T13:43:25.060830Z"
    }
   },
   "outputs": [
    {
     "data": {
      "text/plain": [
       "'stori start well artwork highli reminisc stuff ralph bakshi smooth line women drawn imposs sexi real problem dvd start faulter rd way manner suggest never stori begin never end made sens end left high dri feel interest product long get idea go stori somewher artwork anim pretti highli evolv dvd sort'"
      ]
     },
     "execution_count": 25,
     "metadata": {},
     "output_type": "execute_result"
    }
   ],
   "source": [
    "s[0]"
   ]
  },
  {
   "cell_type": "code",
   "execution_count": 18,
   "id": "322a9431",
   "metadata": {
    "ExecuteTime": {
     "end_time": "2022-03-21T13:16:34.305147Z",
     "start_time": "2022-03-21T13:16:33.256647Z"
    }
   },
   "outputs": [
    {
     "name": "stderr",
     "output_type": "stream",
     "text": [
      "100%|██████████| 500000/500000 [00:01<00:00, 480767.26it/s]\n"
     ]
    }
   ],
   "source": [
    "s = [' '.join(i) for i in tqdm(s)]"
   ]
  },
  {
   "cell_type": "code",
   "execution_count": 37,
   "id": "4a3d30fc",
   "metadata": {
    "ExecuteTime": {
     "end_time": "2022-03-21T13:52:35.140005Z",
     "start_time": "2022-03-21T13:52:09.892982Z"
    }
   },
   "outputs": [],
   "source": [
    "tv = TfidfVectorizer(min_df = 0.01, max_df = 0.9, use_idf = True, smooth_idf = True, norm= 'l2', stop_words = stop_words)\n",
    "X = tv.fit_transform(s)"
   ]
  },
  {
   "cell_type": "code",
   "execution_count": 43,
   "id": "985bd31d",
   "metadata": {
    "ExecuteTime": {
     "end_time": "2022-03-21T13:54:32.940082Z",
     "start_time": "2022-03-21T13:54:32.930583Z"
    }
   },
   "outputs": [],
   "source": [
    "import sys\n",
    "sys.path.append('../tools/')\n",
    "from model_manager import model_manager as mm"
   ]
  },
  {
   "cell_type": "code",
   "execution_count": 44,
   "id": "d10d00c7",
   "metadata": {
    "ExecuteTime": {
     "end_time": "2022-03-21T13:55:19.176114Z",
     "start_time": "2022-03-21T13:55:19.172115Z"
    }
   },
   "outputs": [],
   "source": [
    "tv_mm = mm('tv', '../models', tv)"
   ]
  },
  {
   "cell_type": "code",
   "execution_count": 45,
   "id": "9aa24158",
   "metadata": {
    "ExecuteTime": {
     "end_time": "2022-03-21T13:55:33.482628Z",
     "start_time": "2022-03-21T13:55:31.545123Z"
    },
    "scrolled": true
   },
   "outputs": [
    {
     "name": "stdout",
     "output_type": "stream",
     "text": [
      "Done\n"
     ]
    }
   ],
   "source": [
    "tv_mm.save()"
   ]
  },
  {
   "cell_type": "code",
   "execution_count": 47,
   "id": "02537431",
   "metadata": {
    "ExecuteTime": {
     "end_time": "2022-03-21T13:56:08.388652Z",
     "start_time": "2022-03-21T13:56:07.385647Z"
    }
   },
   "outputs": [
    {
     "name": "stdout",
     "output_type": "stream",
     "text": [
      "Done\n"
     ]
    }
   ],
   "source": [
    "tv_mm.load()"
   ]
  },
  {
   "cell_type": "code",
   "execution_count": 48,
   "id": "8db827e2",
   "metadata": {
    "ExecuteTime": {
     "end_time": "2022-03-21T13:56:20.602657Z",
     "start_time": "2022-03-21T13:56:20.588157Z"
    }
   },
   "outputs": [
    {
     "data": {
      "text/plain": [
       "TfidfVectorizer(max_df=0.9, min_df=0.01,\n",
       "                stop_words=['i', 'me', 'my', 'myself', 'we', 'our', 'ours',\n",
       "                            'ourselves', 'you', \"you're\", \"you've\", \"you'll\",\n",
       "                            \"you'd\", 'your', 'yours', 'yourself', 'yourselves',\n",
       "                            'he', 'him', 'his', 'himself', 'she', \"she's\",\n",
       "                            'her', 'hers', 'herself', 'it', \"it's\", 'its',\n",
       "                            'itself', ...])"
      ]
     },
     "execution_count": 48,
     "metadata": {},
     "output_type": "execute_result"
    }
   ],
   "source": [
    "tv_mm.model"
   ]
  },
  {
   "cell_type": "code",
   "execution_count": 57,
   "id": "646b2a1c",
   "metadata": {
    "ExecuteTime": {
     "end_time": "2022-03-21T14:06:26.773172Z",
     "start_time": "2022-03-21T14:06:26.758672Z"
    }
   },
   "outputs": [],
   "source": [
    "from text_preprocessor import preprocessor as pp"
   ]
  },
  {
   "cell_type": "code",
   "execution_count": 58,
   "id": "11afbaa7",
   "metadata": {
    "ExecuteTime": {
     "end_time": "2022-03-21T14:06:38.816684Z",
     "start_time": "2022-03-21T14:06:38.802685Z"
    }
   },
   "outputs": [],
   "source": [
    "p = pp()"
   ]
  },
  {
   "cell_type": "code",
   "execution_count": 59,
   "id": "bc03b22e",
   "metadata": {
    "ExecuteTime": {
     "end_time": "2022-03-21T14:06:51.340189Z",
     "start_time": "2022-03-21T14:06:51.326188Z"
    }
   },
   "outputs": [
    {
     "ename": "TypeError",
     "evalue": "fit_transform() takes 1 positional argument but 2 were given",
     "output_type": "error",
     "traceback": [
      "\u001b[1;31m---------------------------------------------------------------------------\u001b[0m",
      "\u001b[1;31mTypeError\u001b[0m                                 Traceback (most recent call last)",
      "\u001b[1;32m<ipython-input-59-e3198b3af692>\u001b[0m in \u001b[0;36m<module>\u001b[1;34m\u001b[0m\n\u001b[1;32m----> 1\u001b[1;33m \u001b[0mp\u001b[0m\u001b[1;33m.\u001b[0m\u001b[0mfit_transform\u001b[0m\u001b[1;33m(\u001b[0m\u001b[1;33m[\u001b[0m\u001b[0mX_train\u001b[0m\u001b[1;33m.\u001b[0m\u001b[0miloc\u001b[0m\u001b[1;33m[\u001b[0m\u001b[1;36m0\u001b[0m\u001b[1;33m]\u001b[0m\u001b[1;33m.\u001b[0m\u001b[0mText\u001b[0m\u001b[1;33m]\u001b[0m\u001b[1;33m)\u001b[0m\u001b[1;33m\u001b[0m\u001b[1;33m\u001b[0m\u001b[0m\n\u001b[0m",
      "\u001b[1;31mTypeError\u001b[0m: fit_transform() takes 1 positional argument but 2 were given"
     ]
    }
   ],
   "source": [
    "p.fit_transform([X_train.iloc[0].Text])"
   ]
  },
  {
   "cell_type": "code",
   "execution_count": 52,
   "id": "7e83b1f4",
   "metadata": {
    "ExecuteTime": {
     "end_time": "2022-03-21T14:05:20.975631Z",
     "start_time": "2022-03-21T14:05:20.964630Z"
    }
   },
   "outputs": [
    {
     "data": {
      "text/plain": [
       "'This is a charming version of the classic Dicken\\'s tale.  Henry Winkler makes a good showing as the \"Scrooge\" character.  Even though you know what will happen this version has enough of a change to make it better that average.  If you love A Christmas Carol in any version, then you will love this.'"
      ]
     },
     "execution_count": 52,
     "metadata": {},
     "output_type": "execute_result"
    }
   ],
   "source": [
    "X_train.iloc[0].Text"
   ]
  }
 ],
 "metadata": {
  "kernelspec": {
   "display_name": "Python 3",
   "language": "python",
   "name": "python3"
  },
  "language_info": {
   "codemirror_mode": {
    "name": "ipython",
    "version": 3
   },
   "file_extension": ".py",
   "mimetype": "text/x-python",
   "name": "python",
   "nbconvert_exporter": "python",
   "pygments_lexer": "ipython3",
   "version": "3.8.11"
  },
  "varInspector": {
   "cols": {
    "lenName": 16,
    "lenType": 16,
    "lenVar": 40
   },
   "kernels_config": {
    "python": {
     "delete_cmd_postfix": "",
     "delete_cmd_prefix": "del ",
     "library": "var_list.py",
     "varRefreshCmd": "print(var_dic_list())"
    },
    "r": {
     "delete_cmd_postfix": ") ",
     "delete_cmd_prefix": "rm(",
     "library": "var_list.r",
     "varRefreshCmd": "cat(var_dic_list()) "
    }
   },
   "types_to_exclude": [
    "module",
    "function",
    "builtin_function_or_method",
    "instance",
    "_Feature"
   ],
   "window_display": false
  }
 },
 "nbformat": 4,
 "nbformat_minor": 5
}
