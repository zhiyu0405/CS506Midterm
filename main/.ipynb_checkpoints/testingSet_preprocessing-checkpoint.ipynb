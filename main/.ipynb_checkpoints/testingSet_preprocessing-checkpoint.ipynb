{
 "cells": [
  {
   "cell_type": "code",
   "execution_count": 1,
   "id": "d13693c7",
   "metadata": {
    "ExecuteTime": {
     "end_time": "2022-03-22T05:43:39.629925Z",
     "start_time": "2022-03-22T05:43:39.414412Z"
    }
   },
   "outputs": [],
   "source": [
    "import numpy as np\n",
    "import pandas as pd"
   ]
  },
  {
   "cell_type": "code",
   "execution_count": 2,
   "id": "600d59a7",
   "metadata": {
    "ExecuteTime": {
     "end_time": "2022-03-22T05:43:42.056165Z",
     "start_time": "2022-03-22T05:43:39.692831Z"
    }
   },
   "outputs": [],
   "source": [
    "test = pd.read_csv('../data/X_test.csv')"
   ]
  },
  {
   "cell_type": "code",
   "execution_count": 3,
   "id": "dd3455e2",
   "metadata": {
    "ExecuteTime": {
     "end_time": "2022-03-22T05:43:42.132489Z",
     "start_time": "2022-03-22T05:43:42.118444Z"
    }
   },
   "outputs": [],
   "source": [
    "import sys\n",
    "sys.path.append('../tools/')"
   ]
  },
  {
   "cell_type": "code",
   "execution_count": 4,
   "id": "87f03763",
   "metadata": {
    "ExecuteTime": {
     "end_time": "2022-03-22T05:43:42.257600Z",
     "start_time": "2022-03-22T05:43:42.196966Z"
    }
   },
   "outputs": [],
   "source": [
    "from model_manager import model_manager as mm"
   ]
  },
  {
   "cell_type": "code",
   "execution_count": 5,
   "id": "d00ec8f5",
   "metadata": {
    "ExecuteTime": {
     "end_time": "2022-03-22T05:43:42.337791Z",
     "start_time": "2022-03-22T05:43:42.321718Z"
    }
   },
   "outputs": [],
   "source": [
    "svd = mm('svd_model', '../models/')\n",
    "user_encoder = mm('user_encoder', '../models/')\n",
    "item_encoder = mm('item_encoder', '../models/')\n",
    "tv = mm('tv', '../models/')\n",
    "xgr = mm('xgr', '../models/')\n",
    "lr = mm('Linear_regression', '../models/')"
   ]
  },
  {
   "cell_type": "code",
   "execution_count": 6,
   "id": "1adcf030",
   "metadata": {
    "ExecuteTime": {
     "end_time": "2022-03-22T05:43:42.415825Z",
     "start_time": "2022-03-22T05:43:42.401776Z"
    }
   },
   "outputs": [],
   "source": [
    "models = {'tv': tv, 'user': user_encoder, 'item': item_encoder, 'svd': svd, 'xgr': xgr, 'lr': lr}"
   ]
  },
  {
   "cell_type": "code",
   "execution_count": 7,
   "id": "a8da7416",
   "metadata": {
    "ExecuteTime": {
     "end_time": "2022-03-22T05:43:52.977522Z",
     "start_time": "2022-03-22T05:43:42.478874Z"
    }
   },
   "outputs": [
    {
     "name": "stdout",
     "output_type": "stream",
     "text": [
      "Done\n",
      "Done\n",
      "Done\n",
      "Done\n",
      "Done\n",
      "Done\n"
     ]
    }
   ],
   "source": [
    "for _, model in models.items():\n",
    "    model.load()"
   ]
  },
  {
   "cell_type": "code",
   "execution_count": 8,
   "id": "efbba5ab",
   "metadata": {
    "ExecuteTime": {
     "end_time": "2022-03-22T05:43:53.055515Z",
     "start_time": "2022-03-22T05:43:53.041525Z"
    }
   },
   "outputs": [],
   "source": [
    "models = {name: model.model for name, model in models.items()}"
   ]
  },
  {
   "cell_type": "code",
   "execution_count": null,
   "id": "4d273cb3",
   "metadata": {
    "ExecuteTime": {
     "start_time": "2022-03-22T05:43:42.948Z"
    }
   },
   "outputs": [],
   "source": [
    "test['sentiment'] = test.sentiment.apply(eval)\n",
    "test['sum_sentiment'] = test.sum_sentiment.apply(eval)"
   ]
  },
  {
   "cell_type": "code",
   "execution_count": null,
   "id": "12fe46d7",
   "metadata": {
    "ExecuteTime": {
     "start_time": "2022-03-22T05:43:43.739Z"
    }
   },
   "outputs": [],
   "source": [
    "test['sentiment'] = test.sentiment.apply(np.array)\n",
    "test['sum_sentiment'] = test.sum_sentiment.apply(np.array)"
   ]
  },
  {
   "cell_type": "code",
   "execution_count": null,
   "id": "c53507be",
   "metadata": {
    "ExecuteTime": {
     "start_time": "2022-03-22T05:43:44.273Z"
    }
   },
   "outputs": [],
   "source": [
    "unknown = test[(test.UserId.isin({'A39PU8IUVZ6J8T', 'AADQXONRGI10Z'})) | (test.ProductId.isin({'B00006L942', 'B001D5DQIY'}))]\n",
    "known = test[~((test.UserId.isin({'A39PU8IUVZ6J8T', 'AADQXONRGI10Z'})) | (test.ProductId.isin({'B00006L942', 'B001D5DQIY'})))]"
   ]
  },
  {
   "cell_type": "code",
   "execution_count": null,
   "id": "34598ef1",
   "metadata": {
    "ExecuteTime": {
     "end_time": "2022-03-21T16:43:29.620072Z",
     "start_time": "2022-03-21T16:43:15.083Z"
    }
   },
   "outputs": [],
   "source": [
    "## user item text helpfulnum helpfulden senti sum_senti"
   ]
  },
  {
   "cell_type": "code",
   "execution_count": null,
   "id": "78585c03",
   "metadata": {
    "ExecuteTime": {
     "end_time": "2022-03-22T05:25:47.009075Z",
     "start_time": "2022-03-22T05:25:46.310318Z"
    }
   },
   "outputs": [],
   "source": [
    "from text_preprocessor import preprocessor as pps"
   ]
  },
  {
   "cell_type": "code",
   "execution_count": null,
   "id": "decc041c",
   "metadata": {
    "ExecuteTime": {
     "end_time": "2022-03-22T05:25:47.088936Z",
     "start_time": "2022-03-22T05:25:47.058690Z"
    }
   },
   "outputs": [],
   "source": [
    "p = pps()"
   ]
  },
  {
   "cell_type": "code",
   "execution_count": null,
   "id": "b7310fd5",
   "metadata": {
    "ExecuteTime": {
     "end_time": "2022-03-22T05:25:50.365470Z",
     "start_time": "2022-03-22T05:25:50.332736Z"
    }
   },
   "outputs": [],
   "source": [
    "s = list(test[['Text']].values)"
   ]
  },
  {
   "cell_type": "code",
   "execution_count": null,
   "id": "e3b2bf5d",
   "metadata": {
    "ExecuteTime": {
     "end_time": "2022-03-22T05:35:49.892305Z",
     "start_time": "2022-03-22T05:26:11.069219Z"
    }
   },
   "outputs": [],
   "source": [
    "s = p.fit_transform(s)"
   ]
  },
  {
   "cell_type": "code",
   "execution_count": null,
   "id": "724c5a72",
   "metadata": {},
   "outputs": [],
   "source": []
  },
  {
   "cell_type": "code",
   "execution_count": null,
   "id": "9d0c0df9",
   "metadata": {},
   "outputs": [],
   "source": []
  },
  {
   "cell_type": "code",
   "execution_count": null,
   "id": "3b8beb10",
   "metadata": {},
   "outputs": [],
   "source": []
  },
  {
   "cell_type": "code",
   "execution_count": null,
   "id": "61014556",
   "metadata": {},
   "outputs": [],
   "source": [
    "m = np.concatenate([test[['HelpfulnessNumerator', 'HelpfulnessDenominator']].values, np.stack(test.values[:, -2]), np.stack(test.values[:, -1])],axis=1)"
   ]
  },
  {
   "cell_type": "code",
   "execution_count": null,
   "id": "19f48594",
   "metadata": {
    "ExecuteTime": {
     "end_time": "2022-03-22T05:35:51.680076Z",
     "start_time": "2022-03-22T05:35:51.665023Z"
    }
   },
   "outputs": [],
   "source": [
    "from scipy import sparse"
   ]
  },
  {
   "cell_type": "code",
   "execution_count": null,
   "id": "8cc6a74c",
   "metadata": {
    "ExecuteTime": {
     "end_time": "2022-03-22T05:35:53.498288Z",
     "start_time": "2022-03-22T05:35:53.452321Z"
    }
   },
   "outputs": [],
   "source": [
    "m = sparse.csr_matrix(m)"
   ]
  },
  {
   "cell_type": "code",
   "execution_count": null,
   "id": "44441f4a",
   "metadata": {
    "ExecuteTime": {
     "end_time": "2022-03-22T05:36:09.067971Z",
     "start_time": "2022-03-22T05:35:55.298387Z"
    }
   },
   "outputs": [],
   "source": [
    "m = sparse.hstack([models['tv'].transform(s), m])"
   ]
  },
  {
   "cell_type": "code",
   "execution_count": null,
   "id": "27c5d06c",
   "metadata": {
    "ExecuteTime": {
     "end_time": "2022-03-22T05:39:51.143097Z",
     "start_time": "2022-03-22T05:39:51.134104Z"
    }
   },
   "outputs": [],
   "source": [
    "m = sparse.hstack([sparse.csr_matrix(models['svd'].pu[train.UserId.values]), sparse.csr_matrix(models['svd'].qi[train.ProductId.values]), m])"
   ]
  },
  {
   "cell_type": "code",
   "execution_count": null,
   "id": "6c708093",
   "metadata": {
    "ExecuteTime": {
     "end_time": "2022-03-22T05:41:48.892886Z",
     "start_time": "2022-03-22T05:41:48.864959Z"
    }
   },
   "outputs": [],
   "source": [
    "test"
   ]
  },
  {
   "cell_type": "code",
   "execution_count": null,
   "id": "e3701e24",
   "metadata": {
    "ExecuteTime": {
     "end_time": "2022-03-22T05:42:22.618638Z",
     "start_time": "2022-03-22T05:42:22.544971Z"
    }
   },
   "outputs": [],
   "source": []
  },
  {
   "cell_type": "code",
   "execution_count": null,
   "id": "d1a5a549",
   "metadata": {
    "ExecuteTime": {
     "end_time": "2022-03-22T05:42:27.117739Z",
     "start_time": "2022-03-22T05:42:27.096021Z"
    }
   },
   "outputs": [],
   "source": [
    "known"
   ]
  },
  {
   "cell_type": "code",
   "execution_count": null,
   "id": "7994726f",
   "metadata": {},
   "outputs": [],
   "source": [
    "known['UserId'] = models['user'].transform(known['UserId'])\n",
    "known['ProductId'] = models['item'].transform(known['ProductId'])"
   ]
  },
  {
   "cell_type": "code",
   "execution_count": null,
   "id": "6f26d2dc",
   "metadata": {
    "ExecuteTime": {
     "end_time": "2022-03-21T17:08:48.273106Z",
     "start_time": "2022-03-21T17:08:43.683610Z"
    }
   },
   "outputs": [],
   "source": [
    "m = sparse.hstack([sparse.csr_matrix(models['svd'].pu[train.UserId.values]), sparse.csr_matrix(models['svd'].qi[train.ProductId.values]), m])"
   ]
  },
  {
   "cell_type": "code",
   "execution_count": null,
   "id": "88aeee1d",
   "metadata": {
    "ExecuteTime": {
     "end_time": "2022-03-21T17:08:51.264611Z",
     "start_time": "2022-03-21T17:08:51.252745Z"
    }
   },
   "outputs": [],
   "source": [
    "m.shape"
   ]
  },
  {
   "cell_type": "code",
   "execution_count": null,
   "id": "159b11e2",
   "metadata": {
    "ExecuteTime": {
     "end_time": "2022-03-21T17:09:10.562511Z",
     "start_time": "2022-03-21T17:09:04.289461Z"
    }
   },
   "outputs": [],
   "source": []
  }
 ],
 "metadata": {
  "kernelspec": {
   "display_name": "Python 3",
   "language": "python",
   "name": "python3"
  },
  "language_info": {
   "codemirror_mode": {
    "name": "ipython",
    "version": 3
   },
   "file_extension": ".py",
   "mimetype": "text/x-python",
   "name": "python",
   "nbconvert_exporter": "python",
   "pygments_lexer": "ipython3",
   "version": "3.8.11"
  },
  "varInspector": {
   "cols": {
    "lenName": 16,
    "lenType": 16,
    "lenVar": 40
   },
   "kernels_config": {
    "python": {
     "delete_cmd_postfix": "",
     "delete_cmd_prefix": "del ",
     "library": "var_list.py",
     "varRefreshCmd": "print(var_dic_list())"
    },
    "r": {
     "delete_cmd_postfix": ") ",
     "delete_cmd_prefix": "rm(",
     "library": "var_list.r",
     "varRefreshCmd": "cat(var_dic_list()) "
    }
   },
   "types_to_exclude": [
    "module",
    "function",
    "builtin_function_or_method",
    "instance",
    "_Feature"
   ],
   "window_display": false
  }
 },
 "nbformat": 4,
 "nbformat_minor": 5
}
