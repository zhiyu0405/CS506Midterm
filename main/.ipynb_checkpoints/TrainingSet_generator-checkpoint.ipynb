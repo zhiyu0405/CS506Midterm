{
 "cells": [
  {
   "cell_type": "code",
   "execution_count": 1,
   "id": "d13693c7",
   "metadata": {
    "ExecuteTime": {
     "end_time": "2022-03-21T16:43:40.220644Z",
     "start_time": "2022-03-21T16:43:38.578140Z"
    }
   },
   "outputs": [],
   "source": [
    "import numpy as np\n",
    "import pandas as pd"
   ]
  },
  {
   "cell_type": "code",
   "execution_count": 2,
   "id": "600d59a7",
   "metadata": {
    "ExecuteTime": {
     "end_time": "2022-03-21T16:43:51.365142Z",
     "start_time": "2022-03-21T16:43:40.268645Z"
    }
   },
   "outputs": [],
   "source": [
    "train = pd.read_csv('../data/X_train.csv')"
   ]
  },
  {
   "cell_type": "code",
   "execution_count": 3,
   "id": "dd3455e2",
   "metadata": {
    "ExecuteTime": {
     "end_time": "2022-03-21T16:43:51.427142Z",
     "start_time": "2022-03-21T16:43:51.413206Z"
    }
   },
   "outputs": [],
   "source": [
    "import sys\n",
    "sys.path.append('../tools/')"
   ]
  },
  {
   "cell_type": "code",
   "execution_count": 4,
   "id": "87f03763",
   "metadata": {
    "ExecuteTime": {
     "end_time": "2022-03-21T16:43:51.489142Z",
     "start_time": "2022-03-21T16:43:51.474644Z"
    }
   },
   "outputs": [],
   "source": [
    "from model_manager import model_manager as mm"
   ]
  },
  {
   "cell_type": "code",
   "execution_count": 5,
   "id": "d00ec8f5",
   "metadata": {
    "ExecuteTime": {
     "end_time": "2022-03-21T16:44:40.155555Z",
     "start_time": "2022-03-21T16:44:40.145475Z"
    }
   },
   "outputs": [],
   "source": [
    "svd = mm('svd_model', '../models/')\n",
    "user_encoder = mm('user_encoder', '../models/')\n",
    "item_encoder = mm('item_encoder', '../models/')\n",
    "tv = mm('tv', '../models/')"
   ]
  },
  {
   "cell_type": "code",
   "execution_count": 6,
   "id": "1adcf030",
   "metadata": {
    "ExecuteTime": {
     "end_time": "2022-03-21T16:44:41.246973Z",
     "start_time": "2022-03-21T16:44:41.242531Z"
    }
   },
   "outputs": [],
   "source": [
    "models = {'tv': tv, 'user': user_encoder, 'item': item_encoder, 'svd': svd}"
   ]
  },
  {
   "cell_type": "code",
   "execution_count": 7,
   "id": "a8da7416",
   "metadata": {
    "ExecuteTime": {
     "end_time": "2022-03-21T16:44:51.854260Z",
     "start_time": "2022-03-21T16:44:42.219232Z"
    }
   },
   "outputs": [
    {
     "name": "stdout",
     "output_type": "stream",
     "text": [
      "Done\n",
      "Done\n",
      "Done\n",
      "Done\n"
     ]
    }
   ],
   "source": [
    "for _, model in models.items():\n",
    "    model.load()"
   ]
  },
  {
   "cell_type": "code",
   "execution_count": 8,
   "id": "efbba5ab",
   "metadata": {
    "ExecuteTime": {
     "end_time": "2022-03-21T16:44:51.915759Z",
     "start_time": "2022-03-21T16:44:51.901491Z"
    }
   },
   "outputs": [],
   "source": [
    "models = {name: model.model for name, model in models.items()}"
   ]
  },
  {
   "cell_type": "code",
   "execution_count": 9,
   "id": "6b166772",
   "metadata": {
    "ExecuteTime": {
     "end_time": "2022-03-21T16:44:52.241091Z",
     "start_time": "2022-03-21T16:44:51.963585Z"
    }
   },
   "outputs": [],
   "source": [
    "train = train.sample(500000)"
   ]
  },
  {
   "cell_type": "code",
   "execution_count": 10,
   "id": "1b6e84e6",
   "metadata": {
    "ExecuteTime": {
     "end_time": "2022-03-21T16:44:52.860579Z",
     "start_time": "2022-03-21T16:44:52.288521Z"
    }
   },
   "outputs": [],
   "source": [
    "train['UserId'] = models['user'].transform(train['UserId'])\n",
    "train['ProductId'] = models['item'].transform(train['ProductId'])"
   ]
  },
  {
   "cell_type": "code",
   "execution_count": 11,
   "id": "4d273cb3",
   "metadata": {
    "ExecuteTime": {
     "end_time": "2022-03-21T16:45:04.253028Z",
     "start_time": "2022-03-21T16:44:52.908664Z"
    }
   },
   "outputs": [],
   "source": [
    "train['sentiment'] = train.sentiment.apply(eval)\n",
    "train['sum_sentiment'] = train.sum_sentiment.apply(eval)"
   ]
  },
  {
   "cell_type": "code",
   "execution_count": 12,
   "id": "12fe46d7",
   "metadata": {
    "ExecuteTime": {
     "end_time": "2022-03-21T16:45:05.384095Z",
     "start_time": "2022-03-21T16:45:04.302527Z"
    }
   },
   "outputs": [],
   "source": [
    "train['sentiment'] = train.sentiment.apply(np.array)\n",
    "train['sum_sentiment'] = train.sum_sentiment.apply(np.array)"
   ]
  },
  {
   "cell_type": "code",
   "execution_count": null,
   "id": "34598ef1",
   "metadata": {
    "ExecuteTime": {
     "end_time": "2022-03-21T16:43:29.620072Z",
     "start_time": "2022-03-21T16:43:15.083Z"
    }
   },
   "outputs": [],
   "source": [
    "## user item text helpfulnum helpfulden senti sum_senti"
   ]
  },
  {
   "cell_type": "code",
   "execution_count": 16,
   "id": "2e246867",
   "metadata": {
    "ExecuteTime": {
     "end_time": "2022-03-21T16:45:21.128385Z",
     "start_time": "2022-03-21T16:45:19.861292Z"
    }
   },
   "outputs": [],
   "source": [
    "m = np.concatenate([train[['HelpfulnessNumerator', 'HelpfulnessDenominator']].values, np.stack(train.values[:, -2]), np.stack(train.values[:, -1])],axis=1)"
   ]
  },
  {
   "cell_type": "code",
   "execution_count": 17,
   "id": "78585c03",
   "metadata": {
    "ExecuteTime": {
     "end_time": "2022-03-21T16:45:22.005172Z",
     "start_time": "2022-03-21T16:45:21.191932Z"
    }
   },
   "outputs": [],
   "source": [
    "from text_preprocessor import preprocessor as pps"
   ]
  },
  {
   "cell_type": "code",
   "execution_count": 18,
   "id": "decc041c",
   "metadata": {
    "ExecuteTime": {
     "end_time": "2022-03-21T16:45:22.097676Z",
     "start_time": "2022-03-21T16:45:22.084083Z"
    }
   },
   "outputs": [],
   "source": [
    "p = pps()"
   ]
  },
  {
   "cell_type": "code",
   "execution_count": 19,
   "id": "b7310fd5",
   "metadata": {
    "ExecuteTime": {
     "end_time": "2022-03-21T16:45:22.236797Z",
     "start_time": "2022-03-21T16:45:22.176298Z"
    }
   },
   "outputs": [],
   "source": [
    "s = list(train[['Text']].values)"
   ]
  },
  {
   "cell_type": "code",
   "execution_count": 20,
   "id": "e3b2bf5d",
   "metadata": {
    "ExecuteTime": {
     "end_time": "2022-03-21T17:02:23.333928Z",
     "start_time": "2022-03-21T16:45:56.849823Z"
    }
   },
   "outputs": [
    {
     "name": "stderr",
     "output_type": "stream",
     "text": [
      "100%|██████████| 500000/500000 [16:26<00:00, 506.88it/s]\n"
     ]
    }
   ],
   "source": [
    "s = p.fit_transform(s)"
   ]
  },
  {
   "cell_type": "code",
   "execution_count": 21,
   "id": "19f48594",
   "metadata": {
    "ExecuteTime": {
     "end_time": "2022-03-21T17:02:26.092713Z",
     "start_time": "2022-03-21T17:02:26.078782Z"
    }
   },
   "outputs": [],
   "source": [
    "from scipy import sparse"
   ]
  },
  {
   "cell_type": "code",
   "execution_count": 22,
   "id": "8cc6a74c",
   "metadata": {
    "ExecuteTime": {
     "end_time": "2022-03-21T17:02:28.944303Z",
     "start_time": "2022-03-21T17:02:28.867681Z"
    }
   },
   "outputs": [],
   "source": [
    "m = sparse.csr_matrix(m)"
   ]
  },
  {
   "cell_type": "code",
   "execution_count": 23,
   "id": "44441f4a",
   "metadata": {
    "ExecuteTime": {
     "end_time": "2022-03-21T17:02:53.558090Z",
     "start_time": "2022-03-21T17:02:31.766589Z"
    }
   },
   "outputs": [],
   "source": [
    "m = sparse.hstack([models['tv'].transform(s), m])"
   ]
  },
  {
   "cell_type": "code",
   "execution_count": 27,
   "id": "4029ede3",
   "metadata": {
    "ExecuteTime": {
     "end_time": "2022-03-21T17:04:57.229155Z",
     "start_time": "2022-03-21T17:04:57.217654Z"
    }
   },
   "outputs": [
    {
     "data": {
      "text/plain": [
       "scipy.sparse.coo.coo_matrix"
      ]
     },
     "execution_count": 27,
     "metadata": {},
     "output_type": "execute_result"
    }
   ],
   "source": [
    "type(m)"
   ]
  },
  {
   "cell_type": "code",
   "execution_count": 34,
   "id": "6f26d2dc",
   "metadata": {
    "ExecuteTime": {
     "end_time": "2022-03-21T17:08:48.273106Z",
     "start_time": "2022-03-21T17:08:43.683610Z"
    }
   },
   "outputs": [],
   "source": [
    "m = sparse.hstack([sparse.csr_matrix(models['svd'].pu[train.UserId.values]), sparse.csr_matrix(models['svd'].qi[train.ProductId.values]), m])"
   ]
  },
  {
   "cell_type": "code",
   "execution_count": 35,
   "id": "88aeee1d",
   "metadata": {
    "ExecuteTime": {
     "end_time": "2022-03-21T17:08:51.264611Z",
     "start_time": "2022-03-21T17:08:51.252745Z"
    }
   },
   "outputs": [
    {
     "data": {
      "text/plain": [
       "(500000, 1396)"
      ]
     },
     "execution_count": 35,
     "metadata": {},
     "output_type": "execute_result"
    }
   ],
   "source": [
    "m.shape"
   ]
  },
  {
   "cell_type": "code",
   "execution_count": 36,
   "id": "159b11e2",
   "metadata": {
    "ExecuteTime": {
     "end_time": "2022-03-21T17:09:10.562511Z",
     "start_time": "2022-03-21T17:09:04.289461Z"
    }
   },
   "outputs": [],
   "source": [
    "np.savez('../data/X_train_50000', X=m, y=train['Score'].values)"
   ]
  }
 ],
 "metadata": {
  "kernelspec": {
   "display_name": "Python 3",
   "language": "python",
   "name": "python3"
  },
  "language_info": {
   "codemirror_mode": {
    "name": "ipython",
    "version": 3
   },
   "file_extension": ".py",
   "mimetype": "text/x-python",
   "name": "python",
   "nbconvert_exporter": "python",
   "pygments_lexer": "ipython3",
   "version": "3.8.11"
  },
  "varInspector": {
   "cols": {
    "lenName": 16,
    "lenType": 16,
    "lenVar": 40
   },
   "kernels_config": {
    "python": {
     "delete_cmd_postfix": "",
     "delete_cmd_prefix": "del ",
     "library": "var_list.py",
     "varRefreshCmd": "print(var_dic_list())"
    },
    "r": {
     "delete_cmd_postfix": ") ",
     "delete_cmd_prefix": "rm(",
     "library": "var_list.r",
     "varRefreshCmd": "cat(var_dic_list()) "
    }
   },
   "types_to_exclude": [
    "module",
    "function",
    "builtin_function_or_method",
    "instance",
    "_Feature"
   ],
   "window_display": false
  }
 },
 "nbformat": 4,
 "nbformat_minor": 5
}
