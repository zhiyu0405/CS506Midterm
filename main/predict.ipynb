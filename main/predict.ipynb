{
 "cells": [
  {
   "cell_type": "code",
   "execution_count": 19,
   "id": "b8754ae1",
   "metadata": {
    "ExecuteTime": {
     "end_time": "2022-03-22T07:58:56.871071Z",
     "start_time": "2022-03-22T07:58:56.853247Z"
    }
   },
   "outputs": [],
   "source": [
    "import numpy as np\n",
    "from scipy import sparse\n",
    "import sys\n",
    "sys.path.append('../tools/')\n",
    "from model_manager import model_manager as mm"
   ]
  },
  {
   "cell_type": "code",
   "execution_count": 2,
   "id": "55a13e5c",
   "metadata": {
    "ExecuteTime": {
     "end_time": "2022-03-22T07:40:18.381139Z",
     "start_time": "2022-03-22T07:40:18.378137Z"
    }
   },
   "outputs": [],
   "source": [
    "xgr = mm('xgr', '../models/')\n",
    "lr = mm('Linear_regression', '../models/')"
   ]
  },
  {
   "cell_type": "code",
   "execution_count": 3,
   "id": "d168d75f",
   "metadata": {
    "ExecuteTime": {
     "end_time": "2022-03-22T07:40:18.899746Z",
     "start_time": "2022-03-22T07:40:18.890746Z"
    }
   },
   "outputs": [],
   "source": [
    "models = {'xgr': xgr, 'lr': lr}"
   ]
  },
  {
   "cell_type": "code",
   "execution_count": 4,
   "id": "a9f2f577",
   "metadata": {
    "ExecuteTime": {
     "end_time": "2022-03-22T07:43:34.123268Z",
     "start_time": "2022-03-22T07:43:32.682359Z"
    }
   },
   "outputs": [
    {
     "name": "stdout",
     "output_type": "stream",
     "text": [
      "Done\n",
      "Done\n"
     ]
    }
   ],
   "source": [
    "for _, model in models.items():\n",
    "    model.load()"
   ]
  },
  {
   "cell_type": "code",
   "execution_count": 33,
   "id": "fb34c62f",
   "metadata": {
    "ExecuteTime": {
     "end_time": "2022-03-22T08:05:08.849496Z",
     "start_time": "2022-03-22T08:05:06.358562Z"
    }
   },
   "outputs": [],
   "source": [
    "test = dict(np.load('../data/test_matrix.npz', allow_pickle = True))"
   ]
  },
  {
   "cell_type": "code",
   "execution_count": 39,
   "id": "6b915835",
   "metadata": {
    "ExecuteTime": {
     "end_time": "2022-03-22T08:05:49.116943Z",
     "start_time": "2022-03-22T08:05:49.109074Z"
    }
   },
   "outputs": [],
   "source": [
    "test = test['arr_0'].item()"
   ]
  },
  {
   "cell_type": "code",
   "execution_count": 74,
   "id": "ae993337",
   "metadata": {
    "ExecuteTime": {
     "end_time": "2022-03-22T09:17:45.250656Z",
     "start_time": "2022-03-22T09:17:45.237888Z"
    }
   },
   "outputs": [
    {
     "data": {
      "text/plain": [
       "<300000x1 sparse matrix of type '<class 'numpy.float64'>'\n",
       "\twith 300000 stored elements in Compressed Sparse Column format>"
      ]
     },
     "execution_count": 74,
     "metadata": {},
     "output_type": "execute_result"
    }
   ],
   "source": [
    "id"
   ]
  },
  {
   "cell_type": "code",
   "execution_count": 43,
   "id": "3afce074",
   "metadata": {
    "ExecuteTime": {
     "end_time": "2022-03-22T08:21:13.691241Z",
     "start_time": "2022-03-22T08:21:12.297027Z"
    }
   },
   "outputs": [],
   "source": [
    "id = test.tocsc()[:, 0]\n",
    "features = test.tocsc()[:, 1:]"
   ]
  },
  {
   "cell_type": "code",
   "execution_count": 44,
   "id": "aac59a4f",
   "metadata": {
    "ExecuteTime": {
     "end_time": "2022-03-22T08:22:03.774960Z",
     "start_time": "2022-03-22T08:21:45.560535Z"
    }
   },
   "outputs": [],
   "source": [
    "embedding = models['xgr'].model.apply(features)"
   ]
  },
  {
   "cell_type": "code",
   "execution_count": 48,
   "id": "06b6ebb5",
   "metadata": {
    "ExecuteTime": {
     "end_time": "2022-03-22T08:23:04.122534Z",
     "start_time": "2022-03-22T08:23:03.992958Z"
    }
   },
   "outputs": [],
   "source": [
    "pred = models['lr'].model.predict(embedding)"
   ]
  },
  {
   "cell_type": "code",
   "execution_count": 52,
   "id": "3f239e1b",
   "metadata": {
    "ExecuteTime": {
     "end_time": "2022-03-22T08:24:27.070728Z",
     "start_time": "2022-03-22T08:24:27.064808Z"
    }
   },
   "outputs": [],
   "source": [
    "def approximation(x):\n",
    "    if x > 5:\n",
    "        x = 5\n",
    "    if x < 1:\n",
    "        x = 1\n",
    "    res = int(x * 10) % 10\n",
    "    if res >= 5:\n",
    "        return int(x) + 1\n",
    "    else:\n",
    "        return int(x)"
   ]
  },
  {
   "cell_type": "code",
   "execution_count": 67,
   "id": "3e479cae",
   "metadata": {
    "ExecuteTime": {
     "end_time": "2022-03-22T08:29:12.380895Z",
     "start_time": "2022-03-22T08:29:12.360349Z"
    }
   },
   "outputs": [
    {
     "data": {
      "text/plain": [
       "array([5.000000e+00, 1.100000e+01, 1.700000e+01, ..., 1.179353e+06,\n",
       "       1.179354e+06, 1.179355e+06])"
      ]
     },
     "execution_count": 67,
     "metadata": {},
     "output_type": "execute_result"
    }
   ],
   "source": []
  },
  {
   "cell_type": "code",
   "execution_count": 85,
   "id": "e9e8b7e0",
   "metadata": {
    "ExecuteTime": {
     "end_time": "2022-03-22T09:22:16.963373Z",
     "start_time": "2022-03-22T09:22:16.853848Z"
    }
   },
   "outputs": [],
   "source": [
    "pred = [float(approximation(i)) for i in pred]"
   ]
  },
  {
   "cell_type": "code",
   "execution_count": 86,
   "id": "437ac9f2",
   "metadata": {
    "ExecuteTime": {
     "end_time": "2022-03-22T09:22:18.999419Z",
     "start_time": "2022-03-22T09:22:18.654587Z"
    }
   },
   "outputs": [],
   "source": [
    "pd.DataFrame({'Id': np.array(id.todense()).reshape(-1).astype(int), 'Score': pred}).sort_values(by = 'Id').reset_index(drop = True).to_csv('./submission.csv', index = False)"
   ]
  },
  {
   "cell_type": "code",
   "execution_count": 73,
   "id": "e79d5623",
   "metadata": {
    "ExecuteTime": {
     "end_time": "2022-03-22T09:16:04.132378Z",
     "start_time": "2022-03-22T09:16:04.070218Z"
    },
    "collapsed": true
   },
   "outputs": [
    {
     "data": {
      "text/html": [
       "<div>\n",
       "<style scoped>\n",
       "    .dataframe tbody tr th:only-of-type {\n",
       "        vertical-align: middle;\n",
       "    }\n",
       "\n",
       "    .dataframe tbody tr th {\n",
       "        vertical-align: top;\n",
       "    }\n",
       "\n",
       "    .dataframe thead th {\n",
       "        text-align: right;\n",
       "    }\n",
       "</style>\n",
       "<table border=\"1\" class=\"dataframe\">\n",
       "  <thead>\n",
       "    <tr style=\"text-align: right;\">\n",
       "      <th></th>\n",
       "      <th>Id</th>\n",
       "      <th>Score</th>\n",
       "    </tr>\n",
       "  </thead>\n",
       "  <tbody>\n",
       "    <tr>\n",
       "      <th>0</th>\n",
       "      <td>5</td>\n",
       "      <td>5</td>\n",
       "    </tr>\n",
       "    <tr>\n",
       "      <th>1</th>\n",
       "      <td>11</td>\n",
       "      <td>4</td>\n",
       "    </tr>\n",
       "    <tr>\n",
       "      <th>2</th>\n",
       "      <td>17</td>\n",
       "      <td>4</td>\n",
       "    </tr>\n",
       "    <tr>\n",
       "      <th>3</th>\n",
       "      <td>46</td>\n",
       "      <td>4</td>\n",
       "    </tr>\n",
       "    <tr>\n",
       "      <th>4</th>\n",
       "      <td>47</td>\n",
       "      <td>4</td>\n",
       "    </tr>\n",
       "    <tr>\n",
       "      <th>...</th>\n",
       "      <td>...</td>\n",
       "      <td>...</td>\n",
       "    </tr>\n",
       "    <tr>\n",
       "      <th>299995</th>\n",
       "      <td>1179351</td>\n",
       "      <td>4</td>\n",
       "    </tr>\n",
       "    <tr>\n",
       "      <th>299996</th>\n",
       "      <td>1179352</td>\n",
       "      <td>3</td>\n",
       "    </tr>\n",
       "    <tr>\n",
       "      <th>299997</th>\n",
       "      <td>1179353</td>\n",
       "      <td>4</td>\n",
       "    </tr>\n",
       "    <tr>\n",
       "      <th>299998</th>\n",
       "      <td>1179354</td>\n",
       "      <td>5</td>\n",
       "    </tr>\n",
       "    <tr>\n",
       "      <th>299999</th>\n",
       "      <td>1179355</td>\n",
       "      <td>5</td>\n",
       "    </tr>\n",
       "  </tbody>\n",
       "</table>\n",
       "<p>300000 rows × 2 columns</p>\n",
       "</div>"
      ],
      "text/plain": [
       "             Id  Score\n",
       "0             5      5\n",
       "1            11      4\n",
       "2            17      4\n",
       "3            46      4\n",
       "4            47      4\n",
       "...         ...    ...\n",
       "299995  1179351      4\n",
       "299996  1179352      3\n",
       "299997  1179353      4\n",
       "299998  1179354      5\n",
       "299999  1179355      5\n",
       "\n",
       "[300000 rows x 2 columns]"
      ]
     },
     "execution_count": 73,
     "metadata": {},
     "output_type": "execute_result"
    }
   ],
   "source": [
    "pd.DataFrame({'Id': np.array(id.todense()).reshape(-1).astype(int), 'Score': pred})"
   ]
  },
  {
   "cell_type": "code",
   "execution_count": 83,
   "id": "5c04045d",
   "metadata": {
    "ExecuteTime": {
     "end_time": "2022-03-22T09:21:32.446177Z",
     "start_time": "2022-03-22T09:21:32.271513Z"
    }
   },
   "outputs": [
    {
     "data": {
      "text/plain": [
       "set()"
      ]
     },
     "execution_count": 83,
     "metadata": {},
     "output_type": "execute_result"
    }
   ],
   "source": [
    "set(pd.DataFrame({'Id': np.array(id.todense()).reshape(-1).astype(int), 'Score': pred}).Id).difference(set(pd.read_csv('./submission1.csv').Id))"
   ]
  },
  {
   "cell_type": "code",
   "execution_count": null,
   "id": "f1c9fe32",
   "metadata": {},
   "outputs": [],
   "source": []
  },
  {
   "cell_type": "code",
   "execution_count": 58,
   "id": "fb0b957d",
   "metadata": {
    "ExecuteTime": {
     "end_time": "2022-03-22T08:26:31.173627Z",
     "start_time": "2022-03-22T08:26:31.085783Z"
    }
   },
   "outputs": [
    {
     "data": {
      "text/html": [
       "<div>\n",
       "<style scoped>\n",
       "    .dataframe tbody tr th:only-of-type {\n",
       "        vertical-align: middle;\n",
       "    }\n",
       "\n",
       "    .dataframe tbody tr th {\n",
       "        vertical-align: top;\n",
       "    }\n",
       "\n",
       "    .dataframe thead th {\n",
       "        text-align: right;\n",
       "    }\n",
       "</style>\n",
       "<table border=\"1\" class=\"dataframe\">\n",
       "  <thead>\n",
       "    <tr style=\"text-align: right;\">\n",
       "      <th></th>\n",
       "      <th>Id</th>\n",
       "      <th>Score</th>\n",
       "    </tr>\n",
       "  </thead>\n",
       "  <tbody>\n",
       "    <tr>\n",
       "      <th>0</th>\n",
       "      <td>5</td>\n",
       "      <td>5.0</td>\n",
       "    </tr>\n",
       "    <tr>\n",
       "      <th>1</th>\n",
       "      <td>11</td>\n",
       "      <td>5.0</td>\n",
       "    </tr>\n",
       "    <tr>\n",
       "      <th>2</th>\n",
       "      <td>17</td>\n",
       "      <td>4.0</td>\n",
       "    </tr>\n",
       "    <tr>\n",
       "      <th>3</th>\n",
       "      <td>46</td>\n",
       "      <td>4.0</td>\n",
       "    </tr>\n",
       "    <tr>\n",
       "      <th>4</th>\n",
       "      <td>47</td>\n",
       "      <td>4.0</td>\n",
       "    </tr>\n",
       "    <tr>\n",
       "      <th>...</th>\n",
       "      <td>...</td>\n",
       "      <td>...</td>\n",
       "    </tr>\n",
       "    <tr>\n",
       "      <th>299995</th>\n",
       "      <td>1697520</td>\n",
       "      <td>3.0</td>\n",
       "    </tr>\n",
       "    <tr>\n",
       "      <th>299996</th>\n",
       "      <td>1697522</td>\n",
       "      <td>4.0</td>\n",
       "    </tr>\n",
       "    <tr>\n",
       "      <th>299997</th>\n",
       "      <td>1697524</td>\n",
       "      <td>4.0</td>\n",
       "    </tr>\n",
       "    <tr>\n",
       "      <th>299998</th>\n",
       "      <td>1697527</td>\n",
       "      <td>4.0</td>\n",
       "    </tr>\n",
       "    <tr>\n",
       "      <th>299999</th>\n",
       "      <td>1697528</td>\n",
       "      <td>4.0</td>\n",
       "    </tr>\n",
       "  </tbody>\n",
       "</table>\n",
       "<p>300000 rows × 2 columns</p>\n",
       "</div>"
      ],
      "text/plain": [
       "             Id  Score\n",
       "0             5    5.0\n",
       "1            11    5.0\n",
       "2            17    4.0\n",
       "3            46    4.0\n",
       "4            47    4.0\n",
       "...         ...    ...\n",
       "299995  1697520    3.0\n",
       "299996  1697522    4.0\n",
       "299997  1697524    4.0\n",
       "299998  1697527    4.0\n",
       "299999  1697528    4.0\n",
       "\n",
       "[300000 rows x 2 columns]"
      ]
     },
     "execution_count": 58,
     "metadata": {},
     "output_type": "execute_result"
    }
   ],
   "source": [
    "import pandas as pd\n",
    "pd.read_csv('./submission1.csv')"
   ]
  }
 ],
 "metadata": {
  "kernelspec": {
   "display_name": "Python 3",
   "language": "python",
   "name": "python3"
  },
  "language_info": {
   "codemirror_mode": {
    "name": "ipython",
    "version": 3
   },
   "file_extension": ".py",
   "mimetype": "text/x-python",
   "name": "python",
   "nbconvert_exporter": "python",
   "pygments_lexer": "ipython3",
   "version": "3.8.11"
  },
  "varInspector": {
   "cols": {
    "lenName": 16,
    "lenType": 16,
    "lenVar": 40
   },
   "kernels_config": {
    "python": {
     "delete_cmd_postfix": "",
     "delete_cmd_prefix": "del ",
     "library": "var_list.py",
     "varRefreshCmd": "print(var_dic_list())"
    },
    "r": {
     "delete_cmd_postfix": ") ",
     "delete_cmd_prefix": "rm(",
     "library": "var_list.r",
     "varRefreshCmd": "cat(var_dic_list()) "
    }
   },
   "types_to_exclude": [
    "module",
    "function",
    "builtin_function_or_method",
    "instance",
    "_Feature"
   ],
   "window_display": false
  }
 },
 "nbformat": 4,
 "nbformat_minor": 5
}
