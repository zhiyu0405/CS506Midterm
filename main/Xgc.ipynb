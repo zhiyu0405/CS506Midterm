{
 "cells": [
  {
   "cell_type": "code",
   "execution_count": 1,
   "id": "42f9508d",
   "metadata": {
    "ExecuteTime": {
     "end_time": "2022-03-23T02:54:01.035605Z",
     "start_time": "2022-03-23T02:53:59.699284Z"
    }
   },
   "outputs": [],
   "source": [
    "from __future__ import print_function\n",
    "from __future__ import division\n",
    "\n",
    "import numpy as np\n",
    "import pandas as pd\n",
    "import matplotlib.pyplot as plt \n",
    "from sklearn.model_selection import GridSearchCV \n",
    "\n",
    "import xgboost as xgb\n",
    "from xgboost.sklearn import XGBClassifier\n",
    "from sklearn.ensemble import GradientBoostingClassifier\n",
    "from sklearn.linear_model import LogisticRegression\n",
    "\n",
    "from sklearn.model_selection import train_test_split, cross_val_score\n",
    "from sklearn.datasets import load_svmlight_file\n",
    "from sklearn.preprocessing import OneHotEncoder\n",
    "import sys \n",
    "import time\n",
    "from sklearn.metrics import accuracy_score\n",
    "from matplotlib import pyplot"
   ]
  },
  {
   "cell_type": "code",
   "execution_count": null,
   "id": "8df4ec68",
   "metadata": {
    "ExecuteTime": {
     "end_time": "2022-03-23T01:32:45.777061Z",
     "start_time": "2022-03-23T01:32:45.764060Z"
    }
   },
   "outputs": [],
   "source": [
    "data = np.load('../data/train_matrix.npz', allow_pickle = True)"
   ]
  },
  {
   "cell_type": "code",
   "execution_count": null,
   "id": "2952ce5b",
   "metadata": {
    "ExecuteTime": {
     "end_time": "2022-03-23T01:32:45.917059Z",
     "start_time": "2022-03-23T01:32:45.904059Z"
    }
   },
   "outputs": [],
   "source": [
    "from scipy import sparse"
   ]
  },
  {
   "cell_type": "code",
   "execution_count": null,
   "id": "40f16d9c",
   "metadata": {
    "ExecuteTime": {
     "end_time": "2022-03-23T01:32:47.601196Z",
     "start_time": "2022-03-23T01:32:46.044217Z"
    }
   },
   "outputs": [],
   "source": [
    "X = data['X'].item()\n",
    "y = data['y'] - 1"
   ]
  },
  {
   "cell_type": "code",
   "execution_count": null,
   "id": "4e0f7252",
   "metadata": {
    "ExecuteTime": {
     "end_time": "2022-03-22T16:40:06.512189Z",
     "start_time": "2022-03-22T16:40:05.647438Z"
    }
   },
   "outputs": [],
   "source": [
    "X_train, X_test, y_train, y_test = train_test_split(X, y, test_size=0.2, random_state=3)"
   ]
  },
  {
   "cell_type": "code",
   "execution_count": null,
   "id": "7db2dab2",
   "metadata": {
    "ExecuteTime": {
     "end_time": "2022-03-22T16:40:08.235028Z",
     "start_time": "2022-03-22T16:40:08.219144Z"
    }
   },
   "outputs": [],
   "source": [
    "# dtrain = xgb.DMatrix(X_train, y_train, feature_names=list([str(i) for i in range(X.shape[1])]))\n",
    "# dtest = xgb.DMatrix(X_test, y_test, feature_names=list([str(i) for i in range(X.shape[1])]))"
   ]
  },
  {
   "cell_type": "code",
   "execution_count": null,
   "id": "0a88d402",
   "metadata": {
    "ExecuteTime": {
     "end_time": "2022-03-22T16:40:10.046521Z",
     "start_time": "2022-03-22T16:40:09.984364Z"
    }
   },
   "outputs": [],
   "source": [
    "import gc\n",
    "del X, y, data\n",
    "gc.collect()"
   ]
  },
  {
   "cell_type": "code",
   "execution_count": null,
   "id": "e5a7b9de",
   "metadata": {
    "ExecuteTime": {
     "end_time": "2022-03-22T16:40:11.781428Z",
     "start_time": "2022-03-22T16:40:11.767429Z"
    }
   },
   "outputs": [],
   "source": [
    "eval_set = [(X_train, y_train), (X_test, y_test)]"
   ]
  },
  {
   "cell_type": "code",
   "execution_count": null,
   "id": "55088024",
   "metadata": {
    "ExecuteTime": {
     "end_time": "2022-03-22T16:40:13.575441Z",
     "start_time": "2022-03-22T16:40:13.559846Z"
    }
   },
   "outputs": [],
   "source": [
    "def accuracy(pred, label):\n",
    "    return sum(np.where(pred == label, 1, 0))/len(label)"
   ]
  },
  {
   "cell_type": "code",
   "execution_count": null,
   "id": "2eb75307",
   "metadata": {
    "ExecuteTime": {
     "end_time": "2022-03-22T16:40:15.360422Z",
     "start_time": "2022-03-22T16:40:15.345827Z"
    }
   },
   "outputs": [],
   "source": [
    "params1 = {'objective':['multi:softmax'],\n",
    "            'learning_rate': [0.1], #so called `eta` value\n",
    "            'n_estimators': [1000],\n",
    "            'max_depth': range(3,10,2),\n",
    "            'gamma': [0],\n",
    "            'min_child_weight': range(1,6,2),\n",
    "            'subsample': [0.7],\n",
    "            'colsample_bytree': [0.6],\n",
    "            'reg_alpha':[1],\n",
    "            'tree_method': ['gpu_hist'],\n",
    "            'gpu_id': [0]}"
   ]
  },
  {
   "cell_type": "code",
   "execution_count": null,
   "id": "f83b8cb1",
   "metadata": {
    "ExecuteTime": {
     "end_time": "2022-03-22T16:40:17.141420Z",
     "start_time": "2022-03-22T16:40:17.126134Z"
    }
   },
   "outputs": [],
   "source": [
    "xgc = XGBClassifier()\n",
    "\n",
    "xgb_grid = GridSearchCV(xgc, params1, cv = 3, n_jobs = 4, verbose=2)"
   ]
  },
  {
   "cell_type": "code",
   "execution_count": null,
   "id": "0258b9fe",
   "metadata": {
    "ExecuteTime": {
     "start_time": "2022-03-22T16:40:04.394Z"
    }
   },
   "outputs": [],
   "source": [
    "xgb_grid.fit(X_train, y_train, eval_metric=[\"merror\", \"mlogloss\"], eval_set = eval_set, verbose=True, early_stopping_rounds = 10)"
   ]
  },
  {
   "cell_type": "code",
   "execution_count": null,
   "id": "ea7d5648",
   "metadata": {
    "ExecuteTime": {
     "start_time": "2022-03-22T16:40:04.790Z"
    }
   },
   "outputs": [],
   "source": [
    "xgb_grid.cv_results_['mean_test_score']"
   ]
  },
  {
   "cell_type": "code",
   "execution_count": null,
   "id": "863afd00",
   "metadata": {
    "ExecuteTime": {
     "start_time": "2022-03-22T16:40:05.181Z"
    }
   },
   "outputs": [],
   "source": [
    "print(xgb_grid.best_score_)\n",
    "print(xgb_grid.best_params_)"
   ]
  },
  {
   "cell_type": "code",
   "execution_count": null,
   "id": "49ba81a7",
   "metadata": {
    "ExecuteTime": {
     "end_time": "2022-03-22T16:45:27.229024Z",
     "start_time": "2022-03-22T16:44:16.299743Z"
    },
    "scrolled": true
   },
   "outputs": [],
   "source": [
    "model = XGBClassifier(colsample_bytree = 0.6, gamma = 0, learning_rate = 0.1, max_depth = 5, min_child_weight = 3, reg_alpha = 1, subsample = 0.7, objective ='multi:softmax', tree_method = 'gpu_hist', gpu_id = 0, n_estimators = 700) # n_estimators = 2000\n",
    "# model.fit(X_train, y_train, eval_metric=[\"merror\", \"mlogloss\"], eval_set=eval_set, verbose=True, early_stopping_rounds = 10)\n",
    "eval_set = [(X, y), (X, y)]\n",
    "model.fit(X, y, eval_metric=[\"merror\", \"mlogloss\"], eval_set=eval_set, verbose=True, early_stopping_rounds = 10)"
   ]
  },
  {
   "cell_type": "code",
   "execution_count": null,
   "id": "5c8ecd76",
   "metadata": {
    "ExecuteTime": {
     "end_time": "2022-03-22T16:45:27.619062Z",
     "start_time": "2022-03-22T16:45:27.261400Z"
    }
   },
   "outputs": [],
   "source": [
    "y_pred = model.predict(X_train)\n",
    "predictions = [round(value) for value in y_pred]\n",
    "accuracy = accuracy_score(y_train, predictions)\n",
    "print(\"Accuracy: %.2f%%\" % (accuracy * 100.0))"
   ]
  },
  {
   "cell_type": "code",
   "execution_count": null,
   "id": "670d9934",
   "metadata": {
    "ExecuteTime": {
     "end_time": "2022-03-22T16:45:27.621583Z",
     "start_time": "2022-03-22T16:44:27.074Z"
    }
   },
   "outputs": [],
   "source": [
    "# make predictions for test data\n",
    "y_pred = model.predict(X_test)\n",
    "predictions = [round(value) for value in y_pred]\n",
    "# evaluate predictions\n",
    "accuracy = accuracy_score(y_test, predictions)\n",
    "print(\"Accuracy: %.2f%%\" % (accuracy * 100.0))\n",
    "# retrieve performance metrics\n",
    "results = model.evals_result()\n",
    "epochs = len(results['validation_0']['merror'])\n",
    "x_axis = range(0, epochs)\n",
    "\n",
    "# plot log loss\n",
    "fig1, ax = pyplot.subplots()\n",
    "ax.plot(x_axis, results['validation_0']['mlogloss'], label='Train')\n",
    "ax.plot(x_axis, results['validation_1']['mlogloss'], label='Test')\n",
    "ax.legend()\n",
    "pyplot.ylabel('Log Loss')\n",
    "pyplot.title('XGBoost Log Loss')\n",
    "pyplot.show()\n",
    "\n",
    "# plot classification error\n",
    "fig2, ax = pyplot.subplots()\n",
    "ax.plot(x_axis, results['validation_0']['merror'], label='Train')\n",
    "ax.plot(x_axis, results['validation_1']['merror'], label='Test')\n",
    "ax.legend()\n",
    "pyplot.ylabel('Classification Error')\n",
    "pyplot.title('XGBoost Classification Error')\n",
    "pyplot.show()"
   ]
  },
  {
   "cell_type": "code",
   "execution_count": 2,
   "id": "562ad179",
   "metadata": {
    "ExecuteTime": {
     "end_time": "2022-03-23T02:54:21.942753Z",
     "start_time": "2022-03-23T02:54:21.492400Z"
    }
   },
   "outputs": [
    {
     "name": "stdout",
     "output_type": "stream",
     "text": [
      "Done\n",
      "Done\n"
     ]
    }
   ],
   "source": [
    "import sys\n",
    "sys.path.append('../tools/')\n",
    "from model_manager import model_manager as mm\n",
    "\n",
    "xgc_mm = mm('xgc_700', '../models/')\n",
    "xgc_mm.load()\n",
    "lr_mm_pure = mm('lr_pure', '../models/')\n",
    "lr_mm_pure.load()\n",
    "# lr_mm = mm('lr', '../models/')\n",
    "# lr_mm.load()\n",
    "# xgb_enc_mm = mm('xgb_enc', '../models/')\n",
    "# xgb_enc_mm.load()"
   ]
  },
  {
   "cell_type": "code",
   "execution_count": null,
   "id": "8b20db42",
   "metadata": {
    "ExecuteTime": {
     "end_time": "2022-03-23T01:32:51.415984Z",
     "start_time": "2022-03-23T01:32:51.402982Z"
    }
   },
   "outputs": [],
   "source": [
    "lr = LogisticRegression(multi_class='ovr', solver='lbfgs', max_iter = 1000, n_jobs = 10)"
   ]
  },
  {
   "cell_type": "code",
   "execution_count": null,
   "id": "072c0e1d",
   "metadata": {
    "ExecuteTime": {
     "end_time": "2022-03-22T17:01:58.189586Z",
     "start_time": "2022-03-22T17:01:58.184827Z"
    }
   },
   "outputs": [],
   "source": [
    "xgb_enc = OneHotEncoder()"
   ]
  },
  {
   "cell_type": "code",
   "execution_count": null,
   "id": "a82b039d",
   "metadata": {
    "ExecuteTime": {
     "end_time": "2022-03-23T01:32:56.549872Z",
     "start_time": "2022-03-23T01:32:55.266892Z"
    }
   },
   "outputs": [],
   "source": [
    "X_train, X_test, y_train, y_test = train_test_split(X, y, test_size=0.1, random_state=3)"
   ]
  },
  {
   "cell_type": "code",
   "execution_count": null,
   "id": "728124c5",
   "metadata": {
    "ExecuteTime": {
     "end_time": "2022-03-23T01:33:02.356288Z",
     "start_time": "2022-03-23T01:32:59.962249Z"
    }
   },
   "outputs": [],
   "source": [
    "d = xgc_mm.model.apply(X_test)"
   ]
  },
  {
   "cell_type": "code",
   "execution_count": null,
   "id": "6ecc1328",
   "metadata": {
    "ExecuteTime": {
     "end_time": "2022-03-23T01:30:30.332717Z",
     "start_time": "2022-03-23T01:30:30.319717Z"
    }
   },
   "outputs": [],
   "source": [
    "d.shape"
   ]
  },
  {
   "cell_type": "code",
   "execution_count": null,
   "id": "b296f507",
   "metadata": {
    "ExecuteTime": {
     "end_time": "2022-03-23T01:41:14.501867Z",
     "start_time": "2022-03-23T01:33:05.759471Z"
    }
   },
   "outputs": [],
   "source": [
    "lr.fit(d, y_test)"
   ]
  },
  {
   "cell_type": "code",
   "execution_count": null,
   "id": "afad9cca",
   "metadata": {
    "ExecuteTime": {
     "end_time": "2022-03-22T17:23:49.398667Z",
     "start_time": "2022-03-22T17:02:01.461566Z"
    }
   },
   "outputs": [],
   "source": [
    "# xgb_enc.fit(xgc_mm.model.apply(X_test))\n",
    "# lr.fit(xgb_enc.transform(xgc_mm.model.apply(X_test)), y_test)"
   ]
  },
  {
   "cell_type": "code",
   "execution_count": null,
   "id": "1c4be389",
   "metadata": {
    "ExecuteTime": {
     "end_time": "2022-03-22T17:23:50.646255Z",
     "start_time": "2022-03-22T17:23:50.478019Z"
    }
   },
   "outputs": [],
   "source": [
    "# lr_mm = mm('lr', '../models/', lr)\n",
    "# lr_mm.save()\n",
    "# xgb_enc_mm = mm('xgb_enc', '../models/', xgb_enc)\n",
    "# xgb_enc_mm.save()"
   ]
  },
  {
   "cell_type": "code",
   "execution_count": null,
   "id": "dd8c9c94",
   "metadata": {
    "ExecuteTime": {
     "end_time": "2022-03-23T02:53:08.851083Z",
     "start_time": "2022-03-23T02:53:08.837824Z"
    }
   },
   "outputs": [],
   "source": [
    "lr_mm_pure = mm('lr_pure', '../models/', lr)\n",
    "lr_mm_pure.save()"
   ]
  },
  {
   "cell_type": "code",
   "execution_count": null,
   "id": "0387fa7d",
   "metadata": {
    "ExecuteTime": {
     "end_time": "2022-03-22T03:10:48.036578Z",
     "start_time": "2022-03-22T03:10:48.020995Z"
    }
   },
   "outputs": [],
   "source": [
    "# gpu test\n",
    "# xgr = XGBRegressor(tree_method='gpu_hist', gpu_id=0)\n",
    "# xgr.fit(X_train, y_train)"
   ]
  },
  {
   "cell_type": "code",
   "execution_count": 3,
   "id": "32789133",
   "metadata": {
    "ExecuteTime": {
     "end_time": "2022-03-23T02:56:42.020194Z",
     "start_time": "2022-03-23T02:56:41.530399Z"
    }
   },
   "outputs": [],
   "source": [
    "test = dict(np.load('../data/test_matrix.npz', allow_pickle = True))"
   ]
  },
  {
   "cell_type": "code",
   "execution_count": 4,
   "id": "6c10e7f3",
   "metadata": {
    "ExecuteTime": {
     "end_time": "2022-03-23T02:56:42.530663Z",
     "start_time": "2022-03-23T02:56:42.524969Z"
    }
   },
   "outputs": [],
   "source": [
    "test = test['X'].item()"
   ]
  },
  {
   "cell_type": "code",
   "execution_count": null,
   "id": "2d39de30",
   "metadata": {
    "ExecuteTime": {
     "end_time": "2022-03-22T17:24:28.343383Z",
     "start_time": "2022-03-22T17:24:27.988375Z"
    }
   },
   "outputs": [],
   "source": [
    "test_id = test.tocsc()[:, 0]\n",
    "features = test.tocsc()[:, 1:]"
   ]
  },
  {
   "cell_type": "code",
   "execution_count": null,
   "id": "8410550c",
   "metadata": {},
   "outputs": [],
   "source": []
  },
  {
   "cell_type": "code",
   "execution_count": 6,
   "id": "86319d62",
   "metadata": {
    "ExecuteTime": {
     "end_time": "2022-03-23T02:59:05.163559Z",
     "start_time": "2022-03-23T02:58:49.860421Z"
    }
   },
   "outputs": [
    {
     "ename": "MemoryError",
     "evalue": "Unable to allocate 3.91 GiB for an array with shape (1050000000,) and data type float32",
     "output_type": "error",
     "traceback": [
      "\u001b[1;31m---------------------------------------------------------------------------\u001b[0m",
      "\u001b[1;31mMemoryError\u001b[0m                               Traceback (most recent call last)",
      "\u001b[1;32m<ipython-input-6-1d3582a7d6db>\u001b[0m in \u001b[0;36m<module>\u001b[1;34m\u001b[0m\n\u001b[0;32m      1\u001b[0m \u001b[1;31m# pred = model.predict(features)\u001b[0m\u001b[1;33m\u001b[0m\u001b[1;33m\u001b[0m\u001b[1;33m\u001b[0m\u001b[0m\n\u001b[1;32m----> 2\u001b[1;33m \u001b[0mpred\u001b[0m \u001b[1;33m=\u001b[0m \u001b[0mlr_mm_pure\u001b[0m\u001b[1;33m.\u001b[0m\u001b[0mmodel\u001b[0m\u001b[1;33m.\u001b[0m\u001b[0mpredict\u001b[0m\u001b[1;33m(\u001b[0m\u001b[0mxgc_mm\u001b[0m\u001b[1;33m.\u001b[0m\u001b[0mmodel\u001b[0m\u001b[1;33m.\u001b[0m\u001b[0mapply\u001b[0m\u001b[1;33m(\u001b[0m\u001b[0mtest\u001b[0m\u001b[1;33m.\u001b[0m\u001b[0mtocsc\u001b[0m\u001b[1;33m(\u001b[0m\u001b[1;33m)\u001b[0m\u001b[1;33m[\u001b[0m\u001b[1;33m:\u001b[0m\u001b[1;33m,\u001b[0m \u001b[1;36m1\u001b[0m\u001b[1;33m:\u001b[0m\u001b[1;36m10000\u001b[0m\u001b[1;33m]\u001b[0m\u001b[1;33m)\u001b[0m\u001b[1;33m)\u001b[0m\u001b[1;33m\u001b[0m\u001b[1;33m\u001b[0m\u001b[0m\n\u001b[0m",
      "\u001b[1;32mD:\\conda\\envs\\py38\\lib\\site-packages\\xgboost\\sklearn.py\u001b[0m in \u001b[0;36mapply\u001b[1;34m(self, X, ntree_limit, iteration_range)\u001b[0m\n\u001b[0;32m    940\u001b[0m         \u001b[0miteration_range\u001b[0m \u001b[1;33m=\u001b[0m \u001b[0mself\u001b[0m\u001b[1;33m.\u001b[0m\u001b[0m_get_iteration_range\u001b[0m\u001b[1;33m(\u001b[0m\u001b[0miteration_range\u001b[0m\u001b[1;33m)\u001b[0m\u001b[1;33m\u001b[0m\u001b[1;33m\u001b[0m\u001b[0m\n\u001b[0;32m    941\u001b[0m         \u001b[0mtest_dmatrix\u001b[0m \u001b[1;33m=\u001b[0m \u001b[0mDMatrix\u001b[0m\u001b[1;33m(\u001b[0m\u001b[0mX\u001b[0m\u001b[1;33m,\u001b[0m \u001b[0mmissing\u001b[0m\u001b[1;33m=\u001b[0m\u001b[0mself\u001b[0m\u001b[1;33m.\u001b[0m\u001b[0mmissing\u001b[0m\u001b[1;33m,\u001b[0m \u001b[0mnthread\u001b[0m\u001b[1;33m=\u001b[0m\u001b[0mself\u001b[0m\u001b[1;33m.\u001b[0m\u001b[0mn_jobs\u001b[0m\u001b[1;33m)\u001b[0m\u001b[1;33m\u001b[0m\u001b[1;33m\u001b[0m\u001b[0m\n\u001b[1;32m--> 942\u001b[1;33m         return self.get_booster().predict(\n\u001b[0m\u001b[0;32m    943\u001b[0m             \u001b[0mtest_dmatrix\u001b[0m\u001b[1;33m,\u001b[0m\u001b[1;33m\u001b[0m\u001b[1;33m\u001b[0m\u001b[0m\n\u001b[0;32m    944\u001b[0m             \u001b[0mpred_leaf\u001b[0m\u001b[1;33m=\u001b[0m\u001b[1;32mTrue\u001b[0m\u001b[1;33m,\u001b[0m\u001b[1;33m\u001b[0m\u001b[1;33m\u001b[0m\u001b[0m\n",
      "\u001b[1;32mD:\\conda\\envs\\py38\\lib\\site-packages\\xgboost\\core.py\u001b[0m in \u001b[0;36mpredict\u001b[1;34m(self, data, output_margin, ntree_limit, pred_leaf, pred_contribs, approx_contribs, pred_interactions, validate_features, training, iteration_range, strict_shape)\u001b[0m\n\u001b[0;32m   1921\u001b[0m             )\n\u001b[0;32m   1922\u001b[0m         )\n\u001b[1;32m-> 1923\u001b[1;33m         \u001b[1;32mreturn\u001b[0m \u001b[0m_prediction_output\u001b[0m\u001b[1;33m(\u001b[0m\u001b[0mshape\u001b[0m\u001b[1;33m,\u001b[0m \u001b[0mdims\u001b[0m\u001b[1;33m,\u001b[0m \u001b[0mpreds\u001b[0m\u001b[1;33m,\u001b[0m \u001b[1;32mFalse\u001b[0m\u001b[1;33m)\u001b[0m\u001b[1;33m\u001b[0m\u001b[1;33m\u001b[0m\u001b[0m\n\u001b[0m\u001b[0;32m   1924\u001b[0m \u001b[1;33m\u001b[0m\u001b[0m\n\u001b[0;32m   1925\u001b[0m     def inplace_predict(\n",
      "\u001b[1;32mD:\\conda\\envs\\py38\\lib\\site-packages\\xgboost\\core.py\u001b[0m in \u001b[0;36m_prediction_output\u001b[1;34m(shape, dims, predts, is_cuda)\u001b[0m\n\u001b[0;32m    314\u001b[0m         \u001b[0marr_predict\u001b[0m \u001b[1;33m=\u001b[0m \u001b[0mctypes2cupy\u001b[0m\u001b[1;33m(\u001b[0m\u001b[0mpredts\u001b[0m\u001b[1;33m,\u001b[0m \u001b[0mlength\u001b[0m\u001b[1;33m,\u001b[0m \u001b[0mnp\u001b[0m\u001b[1;33m.\u001b[0m\u001b[0mfloat32\u001b[0m\u001b[1;33m)\u001b[0m\u001b[1;33m\u001b[0m\u001b[1;33m\u001b[0m\u001b[0m\n\u001b[0;32m    315\u001b[0m     \u001b[1;32melse\u001b[0m\u001b[1;33m:\u001b[0m\u001b[1;33m\u001b[0m\u001b[1;33m\u001b[0m\u001b[0m\n\u001b[1;32m--> 316\u001b[1;33m         \u001b[0marr_predict\u001b[0m\u001b[1;33m:\u001b[0m \u001b[0mnp\u001b[0m\u001b[1;33m.\u001b[0m\u001b[0mndarray\u001b[0m \u001b[1;33m=\u001b[0m \u001b[0mctypes2numpy\u001b[0m\u001b[1;33m(\u001b[0m\u001b[0mpredts\u001b[0m\u001b[1;33m,\u001b[0m \u001b[0mlength\u001b[0m\u001b[1;33m,\u001b[0m \u001b[0mnp\u001b[0m\u001b[1;33m.\u001b[0m\u001b[0mfloat32\u001b[0m\u001b[1;33m)\u001b[0m\u001b[1;33m\u001b[0m\u001b[1;33m\u001b[0m\u001b[0m\n\u001b[0m\u001b[0;32m    317\u001b[0m     \u001b[0marr_predict\u001b[0m \u001b[1;33m=\u001b[0m \u001b[0marr_predict\u001b[0m\u001b[1;33m.\u001b[0m\u001b[0mreshape\u001b[0m\u001b[1;33m(\u001b[0m\u001b[0marr_shape\u001b[0m\u001b[1;33m)\u001b[0m\u001b[1;33m\u001b[0m\u001b[1;33m\u001b[0m\u001b[0m\n\u001b[0;32m    318\u001b[0m     \u001b[1;32mreturn\u001b[0m \u001b[0marr_predict\u001b[0m\u001b[1;33m\u001b[0m\u001b[1;33m\u001b[0m\u001b[0m\n",
      "\u001b[1;32mD:\\conda\\envs\\py38\\lib\\site-packages\\xgboost\\core.py\u001b[0m in \u001b[0;36mctypes2numpy\u001b[1;34m(cptr, length, dtype)\u001b[0m\n\u001b[0;32m    253\u001b[0m     \u001b[1;32mif\u001b[0m \u001b[1;32mnot\u001b[0m \u001b[0misinstance\u001b[0m\u001b[1;33m(\u001b[0m\u001b[0mcptr\u001b[0m\u001b[1;33m,\u001b[0m \u001b[0mctypes\u001b[0m\u001b[1;33m.\u001b[0m\u001b[0mPOINTER\u001b[0m\u001b[1;33m(\u001b[0m\u001b[0mctype\u001b[0m\u001b[1;33m)\u001b[0m\u001b[1;33m)\u001b[0m\u001b[1;33m:\u001b[0m\u001b[1;33m\u001b[0m\u001b[1;33m\u001b[0m\u001b[0m\n\u001b[0;32m    254\u001b[0m         \u001b[1;32mraise\u001b[0m \u001b[0mRuntimeError\u001b[0m\u001b[1;33m(\u001b[0m\u001b[1;34mf\"expected {ctype} pointer\"\u001b[0m\u001b[1;33m)\u001b[0m\u001b[1;33m\u001b[0m\u001b[1;33m\u001b[0m\u001b[0m\n\u001b[1;32m--> 255\u001b[1;33m     \u001b[0mres\u001b[0m \u001b[1;33m=\u001b[0m \u001b[0mnp\u001b[0m\u001b[1;33m.\u001b[0m\u001b[0mzeros\u001b[0m\u001b[1;33m(\u001b[0m\u001b[0mlength\u001b[0m\u001b[1;33m,\u001b[0m \u001b[0mdtype\u001b[0m\u001b[1;33m=\u001b[0m\u001b[0mdtype\u001b[0m\u001b[1;33m)\u001b[0m\u001b[1;33m\u001b[0m\u001b[1;33m\u001b[0m\u001b[0m\n\u001b[0m\u001b[0;32m    256\u001b[0m     \u001b[1;32mif\u001b[0m \u001b[1;32mnot\u001b[0m \u001b[0mctypes\u001b[0m\u001b[1;33m.\u001b[0m\u001b[0mmemmove\u001b[0m\u001b[1;33m(\u001b[0m\u001b[0mres\u001b[0m\u001b[1;33m.\u001b[0m\u001b[0mctypes\u001b[0m\u001b[1;33m.\u001b[0m\u001b[0mdata\u001b[0m\u001b[1;33m,\u001b[0m \u001b[0mcptr\u001b[0m\u001b[1;33m,\u001b[0m \u001b[0mlength\u001b[0m \u001b[1;33m*\u001b[0m \u001b[0mres\u001b[0m\u001b[1;33m.\u001b[0m\u001b[0mstrides\u001b[0m\u001b[1;33m[\u001b[0m\u001b[1;36m0\u001b[0m\u001b[1;33m]\u001b[0m\u001b[1;33m)\u001b[0m\u001b[1;33m:\u001b[0m\u001b[1;33m\u001b[0m\u001b[1;33m\u001b[0m\u001b[0m\n\u001b[0;32m    257\u001b[0m         \u001b[1;32mraise\u001b[0m \u001b[0mRuntimeError\u001b[0m\u001b[1;33m(\u001b[0m\u001b[1;34m\"memmove failed\"\u001b[0m\u001b[1;33m)\u001b[0m\u001b[1;33m\u001b[0m\u001b[1;33m\u001b[0m\u001b[0m\n",
      "\u001b[1;31mMemoryError\u001b[0m: Unable to allocate 3.91 GiB for an array with shape (1050000000,) and data type float32"
     ]
    }
   ],
   "source": [
    "# pred = model.predict(features)\n",
    "pred = lr_mm_pure.model.predict(xgc_mm.model.apply(test.tocsc()[:, 1:10000]))"
   ]
  },
  {
   "cell_type": "code",
   "execution_count": null,
   "id": "7917bfeb",
   "metadata": {
    "ExecuteTime": {
     "end_time": "2022-03-22T16:25:59.567545Z",
     "start_time": "2022-03-22T16:25:59.549603Z"
    }
   },
   "outputs": [],
   "source": [
    "pred = pred + 1"
   ]
  },
  {
   "cell_type": "code",
   "execution_count": null,
   "id": "05c27ed4",
   "metadata": {
    "ExecuteTime": {
     "end_time": "2022-03-22T16:26:00.409070Z",
     "start_time": "2022-03-22T16:26:00.059528Z"
    }
   },
   "outputs": [],
   "source": [
    "pd.DataFrame({'Id': np.array(test_id.todense()).reshape(-1).astype(int), 'Score': pred}).sort_values(by = 'Id').reset_index(drop = True).to_csv('./submission.csv', index = False)"
   ]
  }
 ],
 "metadata": {
  "kernelspec": {
   "display_name": "Python 3",
   "language": "python",
   "name": "python3"
  },
  "language_info": {
   "codemirror_mode": {
    "name": "ipython",
    "version": 3
   },
   "file_extension": ".py",
   "mimetype": "text/x-python",
   "name": "python",
   "nbconvert_exporter": "python",
   "pygments_lexer": "ipython3",
   "version": "3.8.11"
  },
  "varInspector": {
   "cols": {
    "lenName": 16,
    "lenType": 16,
    "lenVar": 40
   },
   "kernels_config": {
    "python": {
     "delete_cmd_postfix": "",
     "delete_cmd_prefix": "del ",
     "library": "var_list.py",
     "varRefreshCmd": "print(var_dic_list())"
    },
    "r": {
     "delete_cmd_postfix": ") ",
     "delete_cmd_prefix": "rm(",
     "library": "var_list.r",
     "varRefreshCmd": "cat(var_dic_list()) "
    }
   },
   "types_to_exclude": [
    "module",
    "function",
    "builtin_function_or_method",
    "instance",
    "_Feature"
   ],
   "window_display": false
  }
 },
 "nbformat": 4,
 "nbformat_minor": 5
}
