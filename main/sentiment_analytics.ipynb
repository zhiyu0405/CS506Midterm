{
 "cells": [
  {
   "cell_type": "code",
   "execution_count": null,
   "id": "d565ea3b",
   "metadata": {
    "ExecuteTime": {
     "end_time": "2022-03-21T06:32:57.718162Z",
     "start_time": "2022-03-21T06:32:44.552544Z"
    }
   },
   "outputs": [],
   "source": [
    "import pandas as pd\n",
    "train = pd.read_csv('../data/X_train.csv')\n",
    "test = pd.read_csv('../data/X_test.csv')"
   ]
  },
  {
   "cell_type": "code",
   "execution_count": null,
   "id": "c52d7932",
   "metadata": {
    "ExecuteTime": {
     "end_time": "2022-03-21T06:32:58.565790Z",
     "start_time": "2022-03-21T06:32:57.781160Z"
    }
   },
   "outputs": [],
   "source": [
    "from textblob import TextBlob"
   ]
  },
  {
   "cell_type": "code",
   "execution_count": null,
   "id": "847a1968",
   "metadata": {
    "ExecuteTime": {
     "end_time": "2022-03-21T06:32:58.628097Z",
     "start_time": "2022-03-21T06:32:58.613332Z"
    }
   },
   "outputs": [],
   "source": [
    "def sentiment_analytics(x):\n",
    "    blob = TextBlob(str(x))\n",
    "    return blob.polarity, blob.subjectivity"
   ]
  },
  {
   "cell_type": "code",
   "execution_count": null,
   "id": "3433befd",
   "metadata": {
    "ExecuteTime": {
     "end_time": "2022-03-21T04:26:25.549917Z",
     "start_time": "2022-03-21T03:56:00.399136Z"
    }
   },
   "outputs": [],
   "source": [
    "train['sentiment'] = train.Text.apply(sentiment_analytics)\n",
    "train['sum_sentiment'] = train.Summary.apply(sentiment_analytics)\n",
    "train.to_csv('../data/X_train.csv', index=False)"
   ]
  },
  {
   "cell_type": "code",
   "execution_count": null,
   "id": "cb078189",
   "metadata": {
    "ExecuteTime": {
     "end_time": "2022-03-21T06:41:01.976395Z",
     "start_time": "2022-03-21T06:33:18.780765Z"
    }
   },
   "outputs": [],
   "source": [
    "test['sentiment'] = test.Text.apply(sentiment_analytics)\n",
    "test['sum_sentiment'] = test.Summary.apply(sentiment_analytics)\n",
    "test.to_csv('../data/X_test.csv', index=False)"
   ]
  },
  {
   "cell_type": "code",
   "execution_count": null,
   "id": "9e6c9ea7",
   "metadata": {
    "ExecuteTime": {
     "end_time": "2022-03-21T07:36:00.576477Z",
     "start_time": "2022-03-21T07:36:00.551550Z"
    }
   },
   "outputs": [],
   "source": [
    "test"
   ]
  }
 ],
 "metadata": {
  "kernelspec": {
   "display_name": "Python 3",
   "language": "python",
   "name": "python3"
  },
  "language_info": {
   "codemirror_mode": {
    "name": "ipython",
    "version": 3
   },
   "file_extension": ".py",
   "mimetype": "text/x-python",
   "name": "python",
   "nbconvert_exporter": "python",
   "pygments_lexer": "ipython3",
   "version": "3.8.11"
  },
  "varInspector": {
   "cols": {
    "lenName": 16,
    "lenType": 16,
    "lenVar": 40
   },
   "kernels_config": {
    "python": {
     "delete_cmd_postfix": "",
     "delete_cmd_prefix": "del ",
     "library": "var_list.py",
     "varRefreshCmd": "print(var_dic_list())"
    },
    "r": {
     "delete_cmd_postfix": ") ",
     "delete_cmd_prefix": "rm(",
     "library": "var_list.r",
     "varRefreshCmd": "cat(var_dic_list()) "
    }
   },
   "types_to_exclude": [
    "module",
    "function",
    "builtin_function_or_method",
    "instance",
    "_Feature"
   ],
   "window_display": false
  }
 },
 "nbformat": 4,
 "nbformat_minor": 5
}
