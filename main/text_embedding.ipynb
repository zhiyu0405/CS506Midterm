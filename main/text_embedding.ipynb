{
 "cells": [
  {
   "cell_type": "code",
   "execution_count": 1,
   "id": "3779b79f",
   "metadata": {
    "ExecuteTime": {
     "end_time": "2022-03-22T12:56:11.296155Z",
     "start_time": "2022-03-22T12:55:59.205990Z"
    }
   },
   "outputs": [],
   "source": [
    "import pandas as pd\n",
    "\n",
    "X_train = pd.read_csv('../data/X_train.csv')"
   ]
  },
  {
   "cell_type": "code",
   "execution_count": 2,
   "id": "90799a5f",
   "metadata": {
    "ExecuteTime": {
     "end_time": "2022-03-22T12:56:11.604032Z",
     "start_time": "2022-03-22T12:56:11.328582Z"
    },
    "scrolled": true
   },
   "outputs": [
    {
     "data": {
      "text/plain": [
       "0"
      ]
     },
     "execution_count": 2,
     "metadata": {},
     "output_type": "execute_result"
    }
   ],
   "source": [
    "s = X_train[['Text']].sample(500000).values\n",
    "import gc\n",
    "del X_train\n",
    "gc.collect()"
   ]
  },
  {
   "cell_type": "code",
   "execution_count": 3,
   "id": "0a37942b",
   "metadata": {
    "ExecuteTime": {
     "end_time": "2022-03-22T12:56:11.650372Z",
     "start_time": "2022-03-22T12:56:11.636339Z"
    }
   },
   "outputs": [],
   "source": [
    "from tqdm import tqdm"
   ]
  },
  {
   "cell_type": "code",
   "execution_count": 4,
   "id": "8595607c",
   "metadata": {
    "ExecuteTime": {
     "end_time": "2022-03-22T12:56:13.017731Z",
     "start_time": "2022-03-22T12:56:11.683114Z"
    }
   },
   "outputs": [],
   "source": [
    "import nltk\n",
    "from nltk.corpus import stopwords\n",
    "stop_words = stopwords.words('english')\n",
    "stop_words.extend(['from', 'subject', 're', 'edu', 'use'])"
   ]
  },
  {
   "cell_type": "code",
   "execution_count": 5,
   "id": "407be406",
   "metadata": {
    "ExecuteTime": {
     "end_time": "2022-03-22T12:56:13.386426Z",
     "start_time": "2022-03-22T12:56:13.049744Z"
    }
   },
   "outputs": [],
   "source": [
    "import gensim\n",
    "from gensim.utils import simple_preprocess"
   ]
  },
  {
   "cell_type": "code",
   "execution_count": 6,
   "id": "5944f92e",
   "metadata": {
    "ExecuteTime": {
     "end_time": "2022-03-22T12:56:13.432159Z",
     "start_time": "2022-03-22T12:56:13.418168Z"
    }
   },
   "outputs": [],
   "source": [
    "from nltk.stem.porter import PorterStemmer\n",
    "p_stemmer = PorterStemmer()"
   ]
  },
  {
   "cell_type": "code",
   "execution_count": 7,
   "id": "59b106dc",
   "metadata": {
    "ExecuteTime": {
     "end_time": "2022-03-22T12:56:13.478375Z",
     "start_time": "2022-03-22T12:56:13.463934Z"
    }
   },
   "outputs": [],
   "source": [
    "def sent_to_words(sentence):\n",
    "    return gensim.utils.simple_preprocess(str(sentence), deacc=True)\n",
    "\n",
    "def remove_stopwords(text):\n",
    "    text = sent_to_words(text)\n",
    "    return [p_stemmer.stem(word) for word in simple_preprocess(str(text)) if word not in stop_words]"
   ]
  },
  {
   "cell_type": "code",
   "execution_count": 8,
   "id": "f17eec8e",
   "metadata": {
    "ExecuteTime": {
     "end_time": "2022-03-22T12:56:13.524490Z",
     "start_time": "2022-03-22T12:56:13.510327Z"
    }
   },
   "outputs": [],
   "source": [
    "def remove_punc(x):\n",
    "    return re.sub('[,\\.!?]', '', str(x)).lower()"
   ]
  },
  {
   "cell_type": "code",
   "execution_count": 9,
   "id": "3f36e923",
   "metadata": {
    "ExecuteTime": {
     "end_time": "2022-03-22T12:56:26.997276Z",
     "start_time": "2022-03-22T12:56:13.556886Z"
    }
   },
   "outputs": [
    {
     "name": "stderr",
     "output_type": "stream",
     "text": [
      "100%|██████████| 500000/500000 [00:13<00:00, 37635.22it/s]\n"
     ]
    }
   ],
   "source": [
    "import re\n",
    "s = [re.sub('[,\\.!?]', '', str(i)).lower() for i in tqdm(s)]"
   ]
  },
  {
   "cell_type": "code",
   "execution_count": 10,
   "id": "c3701aad",
   "metadata": {
    "ExecuteTime": {
     "end_time": "2022-03-22T13:13:30.279576Z",
     "start_time": "2022-03-22T12:56:32.496026Z"
    }
   },
   "outputs": [
    {
     "name": "stderr",
     "output_type": "stream",
     "text": [
      "100%|██████████| 500000/500000 [16:57<00:00, 491.33it/s]\n"
     ]
    }
   ],
   "source": [
    "s = [remove_stopwords(i) for i in tqdm(s)]"
   ]
  },
  {
   "cell_type": "code",
   "execution_count": 11,
   "id": "5772cf68",
   "metadata": {
    "ExecuteTime": {
     "end_time": "2022-03-22T13:13:36.638081Z",
     "start_time": "2022-03-22T13:13:36.624174Z"
    }
   },
   "outputs": [],
   "source": [
    "from sklearn import feature_extraction    \n",
    "from sklearn.feature_extraction.text import TfidfVectorizer "
   ]
  },
  {
   "cell_type": "code",
   "execution_count": 12,
   "id": "7304f55a",
   "metadata": {
    "ExecuteTime": {
     "end_time": "2022-03-22T13:13:42.996979Z",
     "start_time": "2022-03-22T13:13:42.983072Z"
    }
   },
   "outputs": [
    {
     "data": {
      "text/plain": [
       "['pleas',\n",
       " 'note',\n",
       " 'opinion',\n",
       " 'design',\n",
       " 'help',\n",
       " 'seen',\n",
       " 'purchas',\n",
       " 'movi',\n",
       " 'milag',\n",
       " 'may',\n",
       " 'vari',\n",
       " 'want',\n",
       " 'info',\n",
       " 'pictur',\n",
       " 'sound',\n",
       " 'extra',\n",
       " 'skip',\n",
       " 'third',\n",
       " 'fourth',\n",
       " 'paragraphsthi',\n",
       " 'review',\n",
       " 'two',\n",
       " 'disc',\n",
       " 'set',\n",
       " 'one',\n",
       " 'disc',\n",
       " 'set',\n",
       " 'primarili',\n",
       " 'featur',\n",
       " 'filmthank',\n",
       " 'titanium',\n",
       " 'composit',\n",
       " 'man',\n",
       " 'ring',\n",
       " 'iron',\n",
       " 'man',\n",
       " 'toni',\n",
       " 'stark',\n",
       " 'robert',\n",
       " 'downey',\n",
       " 'jr',\n",
       " 'terrif',\n",
       " 'complex',\n",
       " 'amus',\n",
       " 'perform',\n",
       " 'merchant',\n",
       " 'death',\n",
       " 'build',\n",
       " 'father',\n",
       " 'compani',\n",
       " 'juggarnaut',\n",
       " 'defens',\n",
       " 'compani',\n",
       " 'latest',\n",
       " 'defens',\n",
       " 'system',\n",
       " 'jericho',\n",
       " 'crush',\n",
       " 'enemi',\n",
       " 'stark',\n",
       " 'kidnap',\n",
       " 'way',\n",
       " 'back',\n",
       " 'demonstr',\n",
       " 'injur',\n",
       " 'stark',\n",
       " 'forc',\n",
       " 'build',\n",
       " 'home',\n",
       " 'made',\n",
       " 'version',\n",
       " 'jericho',\n",
       " 'bit',\n",
       " 'metal',\n",
       " 'heart',\n",
       " 'kept',\n",
       " 'kill',\n",
       " 'due',\n",
       " 'ingenu',\n",
       " 'anoth',\n",
       " 'captor',\n",
       " 'stark',\n",
       " 'liter',\n",
       " 'chang',\n",
       " 'heart',\n",
       " 'particularli',\n",
       " 'see',\n",
       " 'bad',\n",
       " 'guy',\n",
       " 'weaponsh',\n",
       " 'use',\n",
       " 'crude',\n",
       " 'tool',\n",
       " 'build',\n",
       " 'suit',\n",
       " 'metal',\n",
       " 'protect',\n",
       " 'attack',\n",
       " 'captor',\n",
       " 'need',\n",
       " 'stark',\n",
       " 'find',\n",
       " 'reenerg',\n",
       " 'new',\n",
       " 'miniatur',\n",
       " 'arc',\n",
       " 'reactor',\n",
       " 'power',\n",
       " 'magnet',\n",
       " 'keep',\n",
       " 'aliv',\n",
       " 'set',\n",
       " 'undo',\n",
       " 'damag',\n",
       " 'compani',\n",
       " 'done',\n",
       " 'come',\n",
       " 'iron',\n",
       " 'man',\n",
       " 'stand',\n",
       " 'way',\n",
       " 'obadiah',\n",
       " 'stane',\n",
       " 'jeff',\n",
       " 'bridg',\n",
       " 'superb',\n",
       " 'usual',\n",
       " 'want',\n",
       " 'compani',\n",
       " 'run',\n",
       " 'usual',\n",
       " 'stark',\n",
       " 'even',\n",
       " 'get',\n",
       " 'flak',\n",
       " 'stauch',\n",
       " 'support',\n",
       " 'pepper',\n",
       " 'gwyneth',\n",
       " 'paltrow',\n",
       " 'col',\n",
       " 'rhode',\n",
       " 'terenc',\n",
       " 'howard',\n",
       " 'dvd',\n",
       " 'look',\n",
       " 'brilliant',\n",
       " 'one',\n",
       " 'sharpest',\n",
       " 'transfer',\n",
       " 'seen',\n",
       " 'date',\n",
       " 'color',\n",
       " 'pop',\n",
       " 'best',\n",
       " 'detail',\n",
       " 'clariti',\n",
       " 'seen',\n",
       " 'one',\n",
       " 'top',\n",
       " 'notch',\n",
       " 'transfer',\n",
       " 'seen',\n",
       " 'recent',\n",
       " 'year',\n",
       " 'audio',\n",
       " 'extrem',\n",
       " 'activ',\n",
       " 'well',\n",
       " 'use',\n",
       " 'put',\n",
       " 'metal',\n",
       " 'head',\n",
       " 'worldth',\n",
       " 'extra',\n",
       " 'stun',\n",
       " 'well',\n",
       " 'get',\n",
       " 'full',\n",
       " 'documentari',\n",
       " 'iron',\n",
       " 'man',\n",
       " 'detail',\n",
       " 'aspect',\n",
       " 'product',\n",
       " 'give',\n",
       " 'us',\n",
       " 'glimps',\n",
       " 'everyth',\n",
       " 'pre',\n",
       " 'cgi',\n",
       " 'work',\n",
       " 'design',\n",
       " 'element',\n",
       " 'set',\n",
       " 'wire',\n",
       " 'work',\n",
       " 'involv',\n",
       " 'robert',\n",
       " 'downey',\n",
       " 'jr',\n",
       " 'director',\n",
       " 'jon',\n",
       " 'favreau',\n",
       " 'also',\n",
       " 'play',\n",
       " 'happi',\n",
       " 'film',\n",
       " 'manag',\n",
       " 'seamlessli',\n",
       " 'combin',\n",
       " 'cgi',\n",
       " 'pratic',\n",
       " 'physic',\n",
       " 'effect',\n",
       " 'puppet',\n",
       " 'men',\n",
       " 'suit',\n",
       " 'visual',\n",
       " 'effect',\n",
       " 'physic',\n",
       " 'effect',\n",
       " 'team',\n",
       " 'stan',\n",
       " 'winston',\n",
       " 'studio',\n",
       " 'blend',\n",
       " 'thing',\n",
       " 'well',\n",
       " 'shot',\n",
       " 'could',\n",
       " 'sworn',\n",
       " 'physic',\n",
       " 'effect',\n",
       " 'turn',\n",
       " 'cgi',\n",
       " 'vice',\n",
       " 'versa',\n",
       " 'also',\n",
       " 'get',\n",
       " 'delet',\n",
       " 'extend',\n",
       " 'scene',\n",
       " 'interest',\n",
       " 'prove',\n",
       " 'favreau',\n",
       " 'made',\n",
       " 'right',\n",
       " 'choic',\n",
       " 'cut',\n",
       " 'bulk',\n",
       " 'also',\n",
       " 'still',\n",
       " 'galleri',\n",
       " 'screen',\n",
       " 'test',\n",
       " 'featurett',\n",
       " 'invinc',\n",
       " 'iron',\n",
       " 'man',\n",
       " 'give',\n",
       " 'us',\n",
       " 'idea',\n",
       " 'develop',\n",
       " 'charact',\n",
       " 'interview',\n",
       " 'featur',\n",
       " 'mani',\n",
       " 'marvel',\n",
       " 'bullpen',\n",
       " 'contribut',\n",
       " 'metal',\n",
       " 'head',\n",
       " 'develop',\n",
       " 'wire',\n",
       " 'provid',\n",
       " 'us',\n",
       " 'background',\n",
       " 'physic',\n",
       " 'effect',\n",
       " 'visual',\n",
       " 'effect',\n",
       " 'filmdirector',\n",
       " 'favreau',\n",
       " 'manag',\n",
       " 'keep',\n",
       " 'fun',\n",
       " 'comic',\n",
       " 'book',\n",
       " 'element',\n",
       " 'stori',\n",
       " 'still',\n",
       " 'attach',\n",
       " 'seriou',\n",
       " 'entertain',\n",
       " 'element',\n",
       " 'film',\n",
       " 'result',\n",
       " 'one',\n",
       " 'summer',\n",
       " 'best',\n",
       " 'blockbust',\n",
       " 'may',\n",
       " 'lack',\n",
       " 'dark',\n",
       " 'dark',\n",
       " 'knight',\n",
       " 'iron',\n",
       " 'man',\n",
       " 'realli',\n",
       " 'marvel',\n",
       " 'idea',\n",
       " 'batman',\n",
       " 'bit',\n",
       " 'ironi',\n",
       " 'thrown',\n",
       " 'good',\n",
       " 'measur',\n",
       " 'except',\n",
       " 'involv',\n",
       " 'advanc',\n",
       " 'technolog',\n",
       " 'altern',\n",
       " 'tone',\n",
       " 'film',\n",
       " 'make',\n",
       " 'enjoy',\n",
       " 'companion',\n",
       " 'piec',\n",
       " 'best',\n",
       " 'spider',\n",
       " 'man',\n",
       " 'film',\n",
       " 'direct',\n",
       " 'sam',\n",
       " 'raimith',\n",
       " 'nice',\n",
       " 'thing',\n",
       " 'iron',\n",
       " 'man',\n",
       " 'betray',\n",
       " 'root',\n",
       " 'celebr',\n",
       " 'although',\n",
       " 'transport',\n",
       " 'action',\n",
       " 'origin',\n",
       " 'occur',\n",
       " 'vietnam',\n",
       " 'afgan',\n",
       " 'terror',\n",
       " 'also',\n",
       " 'move',\n",
       " 'charact',\n",
       " 'around',\n",
       " 'stane',\n",
       " 'stronger',\n",
       " 'cohesn',\n",
       " 'narr',\n",
       " 'still',\n",
       " 'remain',\n",
       " 'true',\n",
       " 'spirit',\n",
       " 'comic',\n",
       " 'book',\n",
       " 'marvel',\n",
       " 'first',\n",
       " 'hous',\n",
       " 'product',\n",
       " 'iron',\n",
       " 'man',\n",
       " 'demonstr',\n",
       " 'comic',\n",
       " 'book',\n",
       " 'turn',\n",
       " 'movi',\n",
       " 'compani',\n",
       " 'good',\n",
       " 'job',\n",
       " 'better',\n",
       " 'materi',\n",
       " 'terrif',\n",
       " 'film',\n",
       " 'betray',\n",
       " 'origin',\n",
       " 'remind',\n",
       " 'credit',\n",
       " 'roll',\n",
       " 'turn',\n",
       " 'tv',\n",
       " 'dvd',\n",
       " 'player',\n",
       " 'sequenc',\n",
       " 'actual',\n",
       " 'set',\n",
       " 'said',\n",
       " 'third',\n",
       " 'iron',\n",
       " 'man',\n",
       " 'film',\n",
       " 'second',\n",
       " 'depend',\n",
       " 'upon',\n",
       " 'hear',\n",
       " 'companion',\n",
       " 'piec',\n",
       " 'clip',\n",
       " 'conclus',\n",
       " 'incred',\n",
       " 'hulk',\n",
       " 'highli',\n",
       " 'recommend']"
      ]
     },
     "execution_count": 12,
     "metadata": {},
     "output_type": "execute_result"
    }
   ],
   "source": [
    "s[0]"
   ]
  },
  {
   "cell_type": "code",
   "execution_count": 13,
   "id": "322a9431",
   "metadata": {
    "ExecuteTime": {
     "end_time": "2022-03-22T13:13:51.156781Z",
     "start_time": "2022-03-22T13:13:49.326449Z"
    }
   },
   "outputs": [
    {
     "name": "stderr",
     "output_type": "stream",
     "text": [
      "100%|██████████| 500000/500000 [00:00<00:00, 535863.59it/s]\n"
     ]
    }
   ],
   "source": [
    "s = [' '.join(i) for i in tqdm(s)]"
   ]
  },
  {
   "cell_type": "code",
   "execution_count": null,
   "id": "4a3d30fc",
   "metadata": {
    "ExecuteTime": {
     "start_time": "2022-03-22T13:16:39.940Z"
    }
   },
   "outputs": [],
   "source": [
    "tv = TfidfVectorizer(min_df = 0.05, max_df = 0.8, use_idf = True, smooth_idf = True, norm= 'l2', stop_words = stop_words)\n",
    "X = tv.fit_transform(s)\n",
    "X.shape"
   ]
  },
  {
   "cell_type": "code",
   "execution_count": 15,
   "id": "985bd31d",
   "metadata": {
    "ExecuteTime": {
     "end_time": "2022-03-22T13:14:21.471949Z",
     "start_time": "2022-03-22T13:14:21.458003Z"
    }
   },
   "outputs": [],
   "source": [
    "import sys\n",
    "sys.path.append('../tools/')\n",
    "from model_manager import model_manager as mm"
   ]
  },
  {
   "cell_type": "code",
   "execution_count": 16,
   "id": "d10d00c7",
   "metadata": {
    "ExecuteTime": {
     "end_time": "2022-03-22T13:14:23.735711Z",
     "start_time": "2022-03-22T13:14:23.721622Z"
    }
   },
   "outputs": [],
   "source": [
    "tv_mm = mm('tv', '../models', tv)"
   ]
  },
  {
   "cell_type": "code",
   "execution_count": 17,
   "id": "9aa24158",
   "metadata": {
    "ExecuteTime": {
     "end_time": "2022-03-22T13:14:28.045826Z",
     "start_time": "2022-03-22T13:14:25.984075Z"
    },
    "scrolled": true
   },
   "outputs": [
    {
     "name": "stdout",
     "output_type": "stream",
     "text": [
      "Done\n"
     ]
    }
   ],
   "source": [
    "tv_mm.save()"
   ]
  },
  {
   "cell_type": "code",
   "execution_count": 18,
   "id": "e6bce30e",
   "metadata": {
    "ExecuteTime": {
     "end_time": "2022-03-22T13:14:31.479402Z",
     "start_time": "2022-03-22T13:14:31.475428Z"
    }
   },
   "outputs": [
    {
     "data": {
      "text/plain": [
       "(500000, 1189)"
      ]
     },
     "execution_count": 18,
     "metadata": {},
     "output_type": "execute_result"
    }
   ],
   "source": []
  },
  {
   "cell_type": "code",
   "execution_count": null,
   "id": "02537431",
   "metadata": {
    "ExecuteTime": {
     "end_time": "2022-03-21T13:56:08.388652Z",
     "start_time": "2022-03-21T13:56:07.385647Z"
    }
   },
   "outputs": [],
   "source": [
    "tv_mm.load()"
   ]
  },
  {
   "cell_type": "code",
   "execution_count": null,
   "id": "8db827e2",
   "metadata": {
    "ExecuteTime": {
     "end_time": "2022-03-21T13:56:20.602657Z",
     "start_time": "2022-03-21T13:56:20.588157Z"
    }
   },
   "outputs": [],
   "source": [
    "tv_mm.model"
   ]
  },
  {
   "cell_type": "code",
   "execution_count": null,
   "id": "646b2a1c",
   "metadata": {
    "ExecuteTime": {
     "end_time": "2022-03-21T14:06:26.773172Z",
     "start_time": "2022-03-21T14:06:26.758672Z"
    }
   },
   "outputs": [],
   "source": [
    "from text_preprocessor import preprocessor as pp"
   ]
  },
  {
   "cell_type": "code",
   "execution_count": null,
   "id": "11afbaa7",
   "metadata": {
    "ExecuteTime": {
     "end_time": "2022-03-21T14:06:38.816684Z",
     "start_time": "2022-03-21T14:06:38.802685Z"
    }
   },
   "outputs": [],
   "source": [
    "p = pp()"
   ]
  },
  {
   "cell_type": "code",
   "execution_count": null,
   "id": "bc03b22e",
   "metadata": {
    "ExecuteTime": {
     "end_time": "2022-03-21T14:06:51.340189Z",
     "start_time": "2022-03-21T14:06:51.326188Z"
    }
   },
   "outputs": [],
   "source": [
    "p.fit_transform([X_train.iloc[0].Text])"
   ]
  },
  {
   "cell_type": "code",
   "execution_count": null,
   "id": "7e83b1f4",
   "metadata": {
    "ExecuteTime": {
     "end_time": "2022-03-21T14:05:20.975631Z",
     "start_time": "2022-03-21T14:05:20.964630Z"
    }
   },
   "outputs": [],
   "source": [
    "X_train.iloc[0].Text"
   ]
  }
 ],
 "metadata": {
  "kernelspec": {
   "display_name": "Python 3",
   "language": "python",
   "name": "python3"
  },
  "language_info": {
   "codemirror_mode": {
    "name": "ipython",
    "version": 3
   },
   "file_extension": ".py",
   "mimetype": "text/x-python",
   "name": "python",
   "nbconvert_exporter": "python",
   "pygments_lexer": "ipython3",
   "version": "3.8.11"
  },
  "varInspector": {
   "cols": {
    "lenName": 16,
    "lenType": 16,
    "lenVar": 40
   },
   "kernels_config": {
    "python": {
     "delete_cmd_postfix": "",
     "delete_cmd_prefix": "del ",
     "library": "var_list.py",
     "varRefreshCmd": "print(var_dic_list())"
    },
    "r": {
     "delete_cmd_postfix": ") ",
     "delete_cmd_prefix": "rm(",
     "library": "var_list.r",
     "varRefreshCmd": "cat(var_dic_list()) "
    }
   },
   "types_to_exclude": [
    "module",
    "function",
    "builtin_function_or_method",
    "instance",
    "_Feature"
   ],
   "window_display": false
  }
 },
 "nbformat": 4,
 "nbformat_minor": 5
}
