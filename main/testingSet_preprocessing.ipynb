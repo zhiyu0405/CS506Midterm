{
 "cells": [
  {
   "cell_type": "code",
   "execution_count": 1,
   "id": "d13693c7",
   "metadata": {
    "ExecuteTime": {
     "end_time": "2022-03-22T13:20:30.757982Z",
     "start_time": "2022-03-22T13:20:30.514620Z"
    }
   },
   "outputs": [],
   "source": [
    "import numpy as np\n",
    "import pandas as pd"
   ]
  },
  {
   "cell_type": "code",
   "execution_count": 2,
   "id": "600d59a7",
   "metadata": {
    "ExecuteTime": {
     "end_time": "2022-03-22T13:20:33.375416Z",
     "start_time": "2022-03-22T13:20:30.790278Z"
    }
   },
   "outputs": [],
   "source": [
    "test = pd.read_csv('../data/X_test.csv')"
   ]
  },
  {
   "cell_type": "code",
   "execution_count": 3,
   "id": "dd3455e2",
   "metadata": {
    "ExecuteTime": {
     "end_time": "2022-03-22T13:20:33.421607Z",
     "start_time": "2022-03-22T13:20:33.407697Z"
    }
   },
   "outputs": [],
   "source": [
    "import sys\n",
    "sys.path.append('../tools/')"
   ]
  },
  {
   "cell_type": "code",
   "execution_count": 4,
   "id": "87f03763",
   "metadata": {
    "ExecuteTime": {
     "end_time": "2022-03-22T13:20:33.529379Z",
     "start_time": "2022-03-22T13:20:33.453391Z"
    }
   },
   "outputs": [],
   "source": [
    "from model_manager import model_manager as mm"
   ]
  },
  {
   "cell_type": "code",
   "execution_count": 5,
   "id": "d00ec8f5",
   "metadata": {
    "ExecuteTime": {
     "end_time": "2022-03-22T13:20:33.575569Z",
     "start_time": "2022-03-22T13:20:33.561165Z"
    }
   },
   "outputs": [],
   "source": [
    "svd = mm('svd_model', '../models/')\n",
    "user_encoder = mm('user_encoder', '../models/')\n",
    "item_encoder = mm('item_encoder', '../models/')\n",
    "tv = mm('tv', '../models/')\n",
    "xgr = mm('xgr', '../models/')\n",
    "lr = mm('Linear_regression', '../models/')"
   ]
  },
  {
   "cell_type": "code",
   "execution_count": 6,
   "id": "1adcf030",
   "metadata": {
    "ExecuteTime": {
     "end_time": "2022-03-22T13:20:33.621763Z",
     "start_time": "2022-03-22T13:20:33.607356Z"
    }
   },
   "outputs": [],
   "source": [
    "models = {'tv': tv, 'user': user_encoder, 'item': item_encoder, 'svd': svd, 'xgr': xgr, 'lr': lr}"
   ]
  },
  {
   "cell_type": "code",
   "execution_count": 7,
   "id": "a8da7416",
   "metadata": {
    "ExecuteTime": {
     "end_time": "2022-03-22T13:20:55.946907Z",
     "start_time": "2022-03-22T13:20:36.191514Z"
    }
   },
   "outputs": [
    {
     "name": "stdout",
     "output_type": "stream",
     "text": [
      "Done\n",
      "Done\n",
      "Done\n",
      "Done\n",
      "Done\n",
      "Done\n"
     ]
    }
   ],
   "source": [
    "for _, model in models.items():\n",
    "    model.load()"
   ]
  },
  {
   "cell_type": "code",
   "execution_count": 8,
   "id": "efbba5ab",
   "metadata": {
    "ExecuteTime": {
     "end_time": "2022-03-22T13:20:55.993097Z",
     "start_time": "2022-03-22T13:20:55.979191Z"
    }
   },
   "outputs": [],
   "source": [
    "models = {name: model.model for name, model in models.items()}"
   ]
  },
  {
   "cell_type": "code",
   "execution_count": 9,
   "id": "4d273cb3",
   "metadata": {
    "ExecuteTime": {
     "end_time": "2022-03-22T13:21:03.106350Z",
     "start_time": "2022-03-22T13:20:56.040283Z"
    }
   },
   "outputs": [],
   "source": [
    "test['sentiment'] = test.sentiment.apply(eval)\n",
    "test['sum_sentiment'] = test.sum_sentiment.apply(eval)"
   ]
  },
  {
   "cell_type": "code",
   "execution_count": 10,
   "id": "12fe46d7",
   "metadata": {
    "ExecuteTime": {
     "end_time": "2022-03-22T13:21:04.338082Z",
     "start_time": "2022-03-22T13:21:03.153539Z"
    }
   },
   "outputs": [],
   "source": [
    "test['sentiment'] = test.sentiment.apply(np.array)\n",
    "test['sum_sentiment'] = test.sum_sentiment.apply(np.array)"
   ]
  },
  {
   "cell_type": "code",
   "execution_count": 11,
   "id": "7fdcb3ce",
   "metadata": {
    "ExecuteTime": {
     "end_time": "2022-03-22T13:21:04.492049Z",
     "start_time": "2022-03-22T13:21:04.385266Z"
    }
   },
   "outputs": [],
   "source": [
    "unknown = test[(test.UserId.isin({'A39PU8IUVZ6J8T', 'AADQXONRGI10Z'})) | (test.ProductId.isin({'B00006L942', 'B001D5DQIY'}))].reset_index(drop = True)\n",
    "known = test[~((test.UserId.isin({'A39PU8IUVZ6J8T', 'AADQXONRGI10Z'})) | (test.ProductId.isin({'B00006L942', 'B001D5DQIY'})))].reset_index(drop = True)"
   ]
  },
  {
   "cell_type": "code",
   "execution_count": 12,
   "id": "34598ef1",
   "metadata": {
    "ExecuteTime": {
     "end_time": "2022-03-22T13:21:04.599821Z",
     "start_time": "2022-03-22T13:21:04.585417Z"
    }
   },
   "outputs": [],
   "source": [
    "## user item text helpfulnum helpfulden senti sum_senti"
   ]
  },
  {
   "cell_type": "code",
   "execution_count": 13,
   "id": "78585c03",
   "metadata": {
    "ExecuteTime": {
     "end_time": "2022-03-22T13:21:05.215691Z",
     "start_time": "2022-03-22T13:21:04.693695Z"
    }
   },
   "outputs": [],
   "source": [
    "from text_preprocessor import preprocessor as pps"
   ]
  },
  {
   "cell_type": "code",
   "execution_count": 14,
   "id": "decc041c",
   "metadata": {
    "ExecuteTime": {
     "end_time": "2022-03-22T13:21:05.323468Z",
     "start_time": "2022-03-22T13:21:05.309573Z"
    }
   },
   "outputs": [],
   "source": [
    "p = pps()"
   ]
  },
  {
   "cell_type": "code",
   "execution_count": 15,
   "id": "b7310fd5",
   "metadata": {
    "ExecuteTime": {
     "end_time": "2022-03-22T13:21:05.492831Z",
     "start_time": "2022-03-22T13:21:05.416837Z"
    }
   },
   "outputs": [],
   "source": [
    "sk = list(known[['Text']].values)"
   ]
  },
  {
   "cell_type": "code",
   "execution_count": 16,
   "id": "e3b2bf5d",
   "metadata": {
    "ExecuteTime": {
     "end_time": "2022-03-22T13:37:05.169311Z",
     "start_time": "2022-03-22T13:21:28.003729Z"
    }
   },
   "outputs": [
    {
     "name": "stderr",
     "output_type": "stream",
     "text": [
      "100%|██████████| 299980/299980 [15:37<00:00, 320.11it/s]\n"
     ]
    }
   ],
   "source": [
    "sk = p.fit_transform(sk)"
   ]
  },
  {
   "cell_type": "code",
   "execution_count": 17,
   "id": "8a05ccb5",
   "metadata": {
    "ExecuteTime": {
     "end_time": "2022-03-22T13:37:07.540402Z",
     "start_time": "2022-03-22T13:37:06.648385Z"
    }
   },
   "outputs": [],
   "source": [
    "msk = np.concatenate([known[['HelpfulnessNumerator', 'HelpfulnessDenominator']].values, np.stack(known.values[:, -2]), np.stack(known.values[:, -1])],axis=1)\n",
    "musk = np.concatenate([unknown[['HelpfulnessNumerator', 'HelpfulnessDenominator']].values, np.stack(unknown.values[:, -2]), np.stack(unknown.values[:, -1])],axis=1)"
   ]
  },
  {
   "cell_type": "code",
   "execution_count": 18,
   "id": "d4a0097c",
   "metadata": {
    "ExecuteTime": {
     "end_time": "2022-03-22T13:37:09.018474Z",
     "start_time": "2022-03-22T13:37:08.973278Z"
    }
   },
   "outputs": [],
   "source": [
    "np.savez('../data/known', msk)\n",
    "np.savez('../data/unknown', musk)"
   ]
  },
  {
   "cell_type": "code",
   "execution_count": 19,
   "id": "c08bea43",
   "metadata": {
    "ExecuteTime": {
     "end_time": "2022-03-22T13:37:10.758296Z",
     "start_time": "2022-03-22T13:37:10.451358Z"
    }
   },
   "outputs": [],
   "source": [
    "known['UserId'] = models['user'].transform(known['UserId'])\n",
    "known['ProductId'] = models['item'].transform(known['ProductId'])"
   ]
  },
  {
   "cell_type": "code",
   "execution_count": 20,
   "id": "7a4edd81",
   "metadata": {
    "ExecuteTime": {
     "end_time": "2022-03-22T13:37:12.159392Z",
     "start_time": "2022-03-22T13:37:12.144988Z"
    }
   },
   "outputs": [],
   "source": [
    "from scipy import sparse"
   ]
  },
  {
   "cell_type": "code",
   "execution_count": 21,
   "id": "798cb684",
   "metadata": {
    "ExecuteTime": {
     "end_time": "2022-03-22T13:37:33.268201Z",
     "start_time": "2022-03-22T13:37:13.607670Z"
    }
   },
   "outputs": [],
   "source": [
    "msk = sparse.hstack([sparse.csr_matrix(known[['Id']].values), sparse.csr_matrix(models['svd'].pu[known.UserId.values]), sparse.csr_matrix(models['svd'].qi[known.ProductId.values]), models['tv'].transform(sk), sparse.csr_matrix(known[['HelpfulnessNumerator', 'HelpfulnessDenominator']].values), sparse.csr_matrix(np.stack(known.values[:, -2])), sparse.csr_matrix(np.stack(known.values[:, -1]))])"
   ]
  },
  {
   "cell_type": "code",
   "execution_count": 22,
   "id": "6393e688",
   "metadata": {
    "ExecuteTime": {
     "end_time": "2022-03-22T13:37:34.761677Z",
     "start_time": "2022-03-22T13:37:34.747272Z"
    }
   },
   "outputs": [],
   "source": [
    "unknown1 = unknown[(unknown.UserId.isin({'A39PU8IUVZ6J8T', 'AADQXONRGI10Z'}))].reset_index(drop = True)\n",
    "unknown2 = unknown[(unknown.ProductId.isin({'B00006L942', 'B001D5DQIY'}))].reset_index(drop = True)"
   ]
  },
  {
   "cell_type": "code",
   "execution_count": 23,
   "id": "73eb8f1d",
   "metadata": {
    "ExecuteTime": {
     "end_time": "2022-03-22T13:37:36.424514Z",
     "start_time": "2022-03-22T13:37:36.256144Z"
    }
   },
   "outputs": [],
   "source": [
    "unknown2['UserId'] = models['user'].transform(unknown2['UserId'])\n",
    "unknown1['ProductId'] = models['item'].transform(unknown1['ProductId'])"
   ]
  },
  {
   "cell_type": "code",
   "execution_count": 24,
   "id": "e11c6494",
   "metadata": {
    "ExecuteTime": {
     "end_time": "2022-03-22T13:37:37.917991Z",
     "start_time": "2022-03-22T13:37:37.906069Z"
    }
   },
   "outputs": [],
   "source": [
    "nMat = np.full([10, 20], np.nan)"
   ]
  },
  {
   "cell_type": "code",
   "execution_count": 25,
   "id": "3cb8ed78",
   "metadata": {
    "ExecuteTime": {
     "end_time": "2022-03-22T13:37:39.426862Z",
     "start_time": "2022-03-22T13:37:39.397061Z"
    }
   },
   "outputs": [
    {
     "name": "stderr",
     "output_type": "stream",
     "text": [
      "100%|██████████| 10/10 [00:00<00:00, 1119.77it/s]\n"
     ]
    }
   ],
   "source": [
    "suk1 = list(unknown1[['Text']].values)\n",
    "suk1 = p.fit_transform(suk1)"
   ]
  },
  {
   "cell_type": "code",
   "execution_count": 26,
   "id": "dd9b272c",
   "metadata": {
    "ExecuteTime": {
     "end_time": "2022-03-22T13:37:40.904941Z",
     "start_time": "2022-03-22T13:37:40.859743Z"
    }
   },
   "outputs": [
    {
     "name": "stderr",
     "output_type": "stream",
     "text": [
      "100%|██████████| 10/10 [00:00<00:00, 359.59it/s]\n"
     ]
    }
   ],
   "source": [
    "suk2 = list(unknown2[['Text']].values)\n",
    "suk2 = p.fit_transform(suk2)"
   ]
  },
  {
   "cell_type": "code",
   "execution_count": 27,
   "id": "26b10cad",
   "metadata": {
    "ExecuteTime": {
     "end_time": "2022-03-22T13:37:44.153634Z",
     "start_time": "2022-03-22T13:37:44.134263Z"
    }
   },
   "outputs": [
    {
     "data": {
      "text/plain": [
       "(10, 20)"
      ]
     },
     "execution_count": 27,
     "metadata": {},
     "output_type": "execute_result"
    }
   ],
   "source": [
    "models['svd'].qi[unknown1.ProductId.values].shape"
   ]
  },
  {
   "cell_type": "code",
   "execution_count": 28,
   "id": "e60a3c5d",
   "metadata": {
    "ExecuteTime": {
     "end_time": "2022-03-22T13:37:45.939649Z",
     "start_time": "2022-03-22T13:37:45.926731Z"
    }
   },
   "outputs": [
    {
     "data": {
      "text/plain": [
       "(10, 20)"
      ]
     },
     "execution_count": 28,
     "metadata": {},
     "output_type": "execute_result"
    }
   ],
   "source": [
    "models['svd'].pu[unknown2.UserId.values].shape"
   ]
  },
  {
   "cell_type": "code",
   "execution_count": 29,
   "id": "43af58dd",
   "metadata": {
    "ExecuteTime": {
     "end_time": "2022-03-22T13:39:52.761641Z",
     "start_time": "2022-03-22T13:39:52.749715Z"
    }
   },
   "outputs": [],
   "source": [
    "musk1 = sparse.hstack([sparse.csr_matrix(unknown1[['Id']].values), sparse.csr_matrix(nMat), sparse.csr_matrix(models['svd'].qi[unknown1.ProductId.values]), models['tv'].transform(suk1), sparse.csr_matrix(unknown1[['HelpfulnessNumerator', 'HelpfulnessDenominator']].values), sparse.csr_matrix(np.stack(unknown1.values[:, -2])), sparse.csr_matrix(np.stack(unknown1.values[:, -1]))])"
   ]
  },
  {
   "cell_type": "code",
   "execution_count": 30,
   "id": "9e5c78a6",
   "metadata": {
    "ExecuteTime": {
     "end_time": "2022-03-22T13:39:54.255142Z",
     "start_time": "2022-03-22T13:39:54.241732Z"
    }
   },
   "outputs": [],
   "source": [
    "musk2 = sparse.hstack([sparse.csr_matrix(unknown2[['Id']].values), sparse.csr_matrix(models['svd'].pu[unknown2.UserId.values]), sparse.csr_matrix(nMat), models['tv'].transform(suk2), sparse.csr_matrix(unknown2[['HelpfulnessNumerator', 'HelpfulnessDenominator']].values), sparse.csr_matrix(np.stack(unknown2.values[:, -2])), sparse.csr_matrix(np.stack(unknown2.values[:, -1]))])"
   ]
  },
  {
   "cell_type": "code",
   "execution_count": 31,
   "id": "4ec2f3cc",
   "metadata": {
    "ExecuteTime": {
     "end_time": "2022-03-22T13:39:58.627864Z",
     "start_time": "2022-03-22T13:39:55.750604Z"
    }
   },
   "outputs": [],
   "source": [
    "np.savez('../data/test_matrix', X = sparse.vstack([msk, musk1, musk2]))"
   ]
  },
  {
   "cell_type": "code",
   "execution_count": 32,
   "id": "27e532fc",
   "metadata": {
    "ExecuteTime": {
     "end_time": "2022-03-22T13:40:11.330550Z",
     "start_time": "2022-03-22T13:40:11.072288Z"
    }
   },
   "outputs": [
    {
     "data": {
      "text/plain": [
       "(300000, 446)"
      ]
     },
     "execution_count": 32,
     "metadata": {},
     "output_type": "execute_result"
    }
   ],
   "source": [
    "sparse.vstack([msk, musk1, musk2]).shape"
   ]
  }
 ],
 "metadata": {
  "kernelspec": {
   "display_name": "Python 3",
   "language": "python",
   "name": "python3"
  },
  "language_info": {
   "codemirror_mode": {
    "name": "ipython",
    "version": 3
   },
   "file_extension": ".py",
   "mimetype": "text/x-python",
   "name": "python",
   "nbconvert_exporter": "python",
   "pygments_lexer": "ipython3",
   "version": "3.8.11"
  },
  "varInspector": {
   "cols": {
    "lenName": 16,
    "lenType": 16,
    "lenVar": 40
   },
   "kernels_config": {
    "python": {
     "delete_cmd_postfix": "",
     "delete_cmd_prefix": "del ",
     "library": "var_list.py",
     "varRefreshCmd": "print(var_dic_list())"
    },
    "r": {
     "delete_cmd_postfix": ") ",
     "delete_cmd_prefix": "rm(",
     "library": "var_list.r",
     "varRefreshCmd": "cat(var_dic_list()) "
    }
   },
   "types_to_exclude": [
    "module",
    "function",
    "builtin_function_or_method",
    "instance",
    "_Feature"
   ],
   "window_display": false
  }
 },
 "nbformat": 4,
 "nbformat_minor": 5
}
