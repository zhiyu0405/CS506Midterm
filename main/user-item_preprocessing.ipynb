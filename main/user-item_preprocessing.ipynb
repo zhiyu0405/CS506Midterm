{
 "cells": [
  {
   "cell_type": "code",
   "execution_count": 1,
   "id": "55e7ad7b",
   "metadata": {
    "ExecuteTime": {
     "end_time": "2022-03-24T01:49:42.105426Z",
     "start_time": "2022-03-24T01:49:42.062763Z"
    }
   },
   "outputs": [],
   "source": [
    "%load_ext autoreload\n",
    "%autoreload 2"
   ]
  },
  {
   "cell_type": "code",
   "execution_count": 2,
   "id": "336b58f2",
   "metadata": {
    "ExecuteTime": {
     "end_time": "2022-03-24T01:49:42.555538Z",
     "start_time": "2022-03-24T01:49:42.269337Z"
    }
   },
   "outputs": [],
   "source": [
    "import pandas as pd\n",
    "import numpy as np\n",
    "from tqdm import tqdm"
   ]
  },
  {
   "cell_type": "code",
   "execution_count": 3,
   "id": "44d066b9",
   "metadata": {
    "ExecuteTime": {
     "end_time": "2022-03-24T01:49:53.546711Z",
     "start_time": "2022-03-24T01:49:42.604565Z"
    }
   },
   "outputs": [],
   "source": [
    "train = pd.read_csv('../data/X_train.csv')"
   ]
  },
  {
   "cell_type": "code",
   "execution_count": 4,
   "id": "d5565a5e",
   "metadata": {
    "ExecuteTime": {
     "end_time": "2022-03-24T01:49:53.703596Z",
     "start_time": "2022-03-24T01:49:53.594255Z"
    }
   },
   "outputs": [],
   "source": [
    "import sys\n",
    "sys.path.append('../tools/')\n",
    "from model_manager import model_manager as mm"
   ]
  },
  {
   "cell_type": "code",
   "execution_count": 5,
   "id": "5a49d86d",
   "metadata": {
    "ExecuteTime": {
     "end_time": "2022-03-24T01:43:57.819159Z",
     "start_time": "2022-03-24T01:43:57.774010Z"
    }
   },
   "outputs": [],
   "source": [
    "# from sklearn import preprocessing\n",
    "\n",
    "# user_encoder = preprocessing.LabelEncoder()\n",
    "# user_encoder.fit(train.UserId.unique())\n",
    "# item_encoder = preprocessing.LabelEncoder()\n",
    "# item_encoder.fit(train.ProductId.unique())\n",
    "# user_mm = mm('user_encoder', '../models', user_encoder)\n",
    "# user_mm.save()\n",
    "# item_mm = mm('item_encoder', '../models', item_encoder)\n",
    "# item_mm.save()"
   ]
  },
  {
   "cell_type": "code",
   "execution_count": 5,
   "id": "31641779",
   "metadata": {
    "ExecuteTime": {
     "end_time": "2022-03-24T01:49:53.796598Z",
     "start_time": "2022-03-24T01:49:53.750600Z"
    }
   },
   "outputs": [],
   "source": [
    "user_mm = mm('user_encoder', '../models')\n",
    "item_mm = mm('item_encoder', '../models')"
   ]
  },
  {
   "cell_type": "code",
   "execution_count": 6,
   "id": "f5b3bf77",
   "metadata": {
    "ExecuteTime": {
     "end_time": "2022-03-24T01:49:54.468458Z",
     "start_time": "2022-03-24T01:49:53.843598Z"
    }
   },
   "outputs": [
    {
     "name": "stdout",
     "output_type": "stream",
     "text": [
      "Done\n",
      "Done\n"
     ]
    }
   ],
   "source": [
    "user_mm.load()\n",
    "item_mm.load()"
   ]
  },
  {
   "cell_type": "code",
   "execution_count": 7,
   "id": "14539cc3",
   "metadata": {
    "ExecuteTime": {
     "end_time": "2022-03-24T01:49:55.278710Z",
     "start_time": "2022-03-24T01:49:54.531476Z"
    }
   },
   "outputs": [],
   "source": [
    "train['UserId'] = user_mm.model.transform(train['UserId'])\n",
    "train['ProductId'] = item_mm.model.transform(train['ProductId'])"
   ]
  },
  {
   "cell_type": "code",
   "execution_count": 8,
   "id": "a30afcc7",
   "metadata": {
    "ExecuteTime": {
     "end_time": "2022-03-24T01:49:55.418590Z",
     "start_time": "2022-03-24T01:49:55.341632Z"
    }
   },
   "outputs": [],
   "source": [
    "from surprise import Dataset\n",
    "from surprise import Reader"
   ]
  },
  {
   "cell_type": "code",
   "execution_count": 9,
   "id": "7f697b3e",
   "metadata": {
    "ExecuteTime": {
     "end_time": "2022-03-24T01:49:56.511604Z",
     "start_time": "2022-03-24T01:49:55.482591Z"
    }
   },
   "outputs": [],
   "source": [
    "reader = Reader(rating_scale=(1, 5))\n",
    "data = Dataset.load_from_df(train[['UserId', 'ProductId', 'Score']], reader)"
   ]
  },
  {
   "cell_type": "code",
   "execution_count": null,
   "id": "a43f0722",
   "metadata": {
    "ExecuteTime": {
     "end_time": "2022-03-22T11:25:35.418581Z",
     "start_time": "2022-03-22T11:25:35.372090Z"
    }
   },
   "outputs": [],
   "source": [
    "param_grid = {'n_epochs':[5, 10, 15, 20], 'lr_all':[0.002, 0.005, 0.007],\n",
    "             'reg_all':[0.4, 0.6, 0.8]}"
   ]
  },
  {
   "cell_type": "code",
   "execution_count": null,
   "id": "0b02ae50",
   "metadata": {
    "ExecuteTime": {
     "end_time": "2022-03-22T11:25:35.605670Z",
     "start_time": "2022-03-22T11:25:35.544168Z"
    }
   },
   "outputs": [],
   "source": [
    "from surprise import SVDpp\n",
    "from surprise.model_selection import cross_validate\n",
    "from surprise import accuracy\n",
    "from surprise.model_selection import KFold\n",
    "from surprise.model_selection import GridSearchCV"
   ]
  },
  {
   "cell_type": "code",
   "execution_count": null,
   "id": "e33553a1",
   "metadata": {
    "ExecuteTime": {
     "end_time": "2022-03-21T15:12:53.035578Z",
     "start_time": "2022-03-21T15:12:52.976893Z"
    }
   },
   "outputs": [],
   "source": [
    "grid_search = GridSearchCV(SVD, param_grid, measures=['RMSE', 'MAE'], cv = 3, joblib_verbose = 4, n_jobs = 8)"
   ]
  },
  {
   "cell_type": "code",
   "execution_count": null,
   "id": "e9f75939",
   "metadata": {
    "ExecuteTime": {
     "start_time": "2022-03-21T15:12:53.954Z"
    },
    "scrolled": true
   },
   "outputs": [],
   "source": [
    "grid_search.fit(data)"
   ]
  },
  {
   "cell_type": "code",
   "execution_count": null,
   "id": "f6b1a1f5",
   "metadata": {},
   "outputs": [],
   "source": [
    "grid_search.best_params"
   ]
  },
  {
   "cell_type": "code",
   "execution_count": null,
   "id": "7f6d21bc",
   "metadata": {
    "ExecuteTime": {
     "end_time": "2022-03-21T15:12:29.041361Z",
     "start_time": "2022-03-21T15:12:28.970393Z"
    }
   },
   "outputs": [],
   "source": [
    "grid_search.best_score"
   ]
  },
  {
   "cell_type": "code",
   "execution_count": null,
   "id": "993077df",
   "metadata": {
    "ExecuteTime": {
     "end_time": "2022-03-21T15:09:54.337975Z",
     "start_time": "2022-03-21T15:09:54.276970Z"
    }
   },
   "outputs": [],
   "source": [
    "grid_search.best_params"
   ]
  },
  {
   "cell_type": "code",
   "execution_count": null,
   "id": "8bc769e1",
   "metadata": {
    "ExecuteTime": {
     "end_time": "2022-03-22T11:25:37.172108Z",
     "start_time": "2022-03-22T11:25:35.732741Z"
    }
   },
   "outputs": [],
   "source": [
    "train_set = data.build_full_trainset()"
   ]
  },
  {
   "cell_type": "code",
   "execution_count": null,
   "id": "cd8c28cd",
   "metadata": {
    "ExecuteTime": {
     "end_time": "2022-03-22T11:25:39.337069Z",
     "start_time": "2022-03-22T11:25:39.285980Z"
    }
   },
   "outputs": [],
   "source": [
    "svd = SVDpp(verbose=True, n_epochs=20, lr_all = 0.007, reg_all = 0.4)"
   ]
  },
  {
   "cell_type": "code",
   "execution_count": null,
   "id": "9f4feb50",
   "metadata": {
    "ExecuteTime": {
     "end_time": "2022-03-22T11:51:07.581635Z",
     "start_time": "2022-03-22T11:25:40.228810Z"
    }
   },
   "outputs": [],
   "source": [
    "svd.fit(train_set)"
   ]
  },
  {
   "cell_type": "code",
   "execution_count": null,
   "id": "586d4952",
   "metadata": {
    "ExecuteTime": {
     "end_time": "2022-03-22T11:51:33.211033Z",
     "start_time": "2022-03-22T11:51:07.707132Z"
    }
   },
   "outputs": [],
   "source": [
    "svd_mm = mm('svd_model', '../models', svd)\n",
    "svd_mm.save()"
   ]
  },
  {
   "cell_type": "code",
   "execution_count": 10,
   "id": "c02ad855",
   "metadata": {
    "ExecuteTime": {
     "end_time": "2022-03-24T01:50:06.939957Z",
     "start_time": "2022-03-24T01:49:58.351692Z"
    }
   },
   "outputs": [
    {
     "name": "stdout",
     "output_type": "stream",
     "text": [
      "Done\n"
     ]
    }
   ],
   "source": [
    "svd_mm = mm('svd_model', '../models')\n",
    "svd_mm.load()"
   ]
  },
  {
   "cell_type": "code",
   "execution_count": null,
   "id": "ce6f248d",
   "metadata": {
    "ExecuteTime": {
     "end_time": "2022-03-22T12:54:10.762153Z",
     "start_time": "2022-03-22T12:54:10.704049Z"
    }
   },
   "outputs": [],
   "source": [
    "svd_mm.model.pu.shape"
   ]
  },
  {
   "cell_type": "code",
   "execution_count": 11,
   "id": "3a2909dd",
   "metadata": {
    "ExecuteTime": {
     "end_time": "2022-03-24T01:53:06.084774Z",
     "start_time": "2022-03-24T01:50:07.018565Z"
    }
   },
   "outputs": [],
   "source": [
    "predictions = svd_mm.model.test([data.df.iloc[i].to_list() for i in range(len(data.df))])"
   ]
  },
  {
   "cell_type": "code",
   "execution_count": 12,
   "id": "9603169c",
   "metadata": {
    "ExecuteTime": {
     "end_time": "2022-03-24T01:53:08.872219Z",
     "start_time": "2022-03-24T01:53:08.395518Z"
    }
   },
   "outputs": [],
   "source": [
    "predictions = [int(i.est) for i in predictions]"
   ]
  },
  {
   "cell_type": "code",
   "execution_count": 13,
   "id": "c3a15d24",
   "metadata": {
    "ExecuteTime": {
     "end_time": "2022-03-24T02:00:34.062580Z",
     "start_time": "2022-03-24T02:00:33.744024Z"
    }
   },
   "outputs": [
    {
     "data": {
      "text/plain": [
       "0.22072466267343954"
      ]
     },
     "execution_count": 13,
     "metadata": {},
     "output_type": "execute_result"
    }
   ],
   "source": [
    "sum(np.where(data.df.Score.values == predictions, 1, 0))/len(data.df)"
   ]
  },
  {
   "cell_type": "code",
   "execution_count": null,
   "id": "916b4fc2",
   "metadata": {
    "ExecuteTime": {
     "end_time": "2022-03-22T12:53:13.168186Z",
     "start_time": "2022-03-22T12:53:12.862449Z"
    }
   },
   "outputs": [],
   "source": [
    "sum(abs(np.array(predictions) - data.df.Score.values))"
   ]
  },
  {
   "cell_type": "code",
   "execution_count": null,
   "id": "b31703c7",
   "metadata": {},
   "outputs": [],
   "source": []
  },
  {
   "cell_type": "code",
   "execution_count": null,
   "id": "806781ae",
   "metadata": {},
   "outputs": [],
   "source": []
  },
  {
   "cell_type": "code",
   "execution_count": null,
   "id": "5d0e7c0b",
   "metadata": {},
   "outputs": [],
   "source": []
  },
  {
   "cell_type": "code",
   "execution_count": null,
   "id": "1d2b0e55",
   "metadata": {},
   "outputs": [],
   "source": []
  },
  {
   "cell_type": "code",
   "execution_count": null,
   "id": "b347b035",
   "metadata": {
    "ExecuteTime": {
     "end_time": "2022-03-20T17:00:42.113147Z",
     "start_time": "2022-03-20T17:00:42.051149Z"
    }
   },
   "outputs": [],
   "source": [
    "train"
   ]
  },
  {
   "cell_type": "code",
   "execution_count": null,
   "id": "812cc55f",
   "metadata": {
    "ExecuteTime": {
     "end_time": "2022-03-20T17:30:01.544323Z",
     "start_time": "2022-03-20T17:29:49.345186Z"
    }
   },
   "outputs": [],
   "source": [
    "original = pd.read_csv('../data/X_train.csv')\n",
    "test = pd.read_csv('../data/X_test.csv')"
   ]
  },
  {
   "cell_type": "code",
   "execution_count": null,
   "id": "c6c40d8a",
   "metadata": {
    "ExecuteTime": {
     "end_time": "2022-03-20T17:30:02.975956Z",
     "start_time": "2022-03-20T17:30:02.679332Z"
    }
   },
   "outputs": [],
   "source": [
    "set(test.UserId).difference(set(original.UserId))"
   ]
  },
  {
   "cell_type": "code",
   "execution_count": null,
   "id": "86f94924",
   "metadata": {
    "ExecuteTime": {
     "end_time": "2022-03-20T17:30:18.289264Z",
     "start_time": "2022-03-20T17:30:18.135123Z"
    }
   },
   "outputs": [],
   "source": [
    "set(test.ProductId).difference(set(original.ProductId))"
   ]
  },
  {
   "cell_type": "code",
   "execution_count": null,
   "id": "cdfde18e",
   "metadata": {
    "ExecuteTime": {
     "end_time": "2022-03-20T18:02:55.097430Z",
     "start_time": "2022-03-20T18:02:55.021345Z"
    },
    "scrolled": true
   },
   "outputs": [],
   "source": [
    "unknown = test[(test.UserId.isin({'A39PU8IUVZ6J8T', 'AADQXONRGI10Z'})) | (test.ProductId.isin({'B00006L942', 'B001D5DQIY'}))].reset_index(drop = True)"
   ]
  },
  {
   "cell_type": "code",
   "execution_count": null,
   "id": "384fbb58",
   "metadata": {
    "ExecuteTime": {
     "end_time": "2022-03-20T17:56:10.327717Z",
     "start_time": "2022-03-20T17:56:10.208067Z"
    }
   },
   "outputs": [],
   "source": [
    "known = test[~((test.UserId.isin({'A39PU8IUVZ6J8T', 'AADQXONRGI10Z'})) | (test.ProductId.isin({'B00006L942', 'B001D5DQIY'})))][['Id', 'UserId', 'ProductId', 'Score']].reset_index(drop = True)"
   ]
  },
  {
   "cell_type": "code",
   "execution_count": null,
   "id": "5fd17099",
   "metadata": {
    "ExecuteTime": {
     "end_time": "2022-03-20T17:56:12.244307Z",
     "start_time": "2022-03-20T17:56:12.171487Z"
    }
   },
   "outputs": [],
   "source": [
    "def transformer(df, encoders):\n",
    "    for col, encoder in encoders.items():\n",
    "        df[col] = encoder.transform(df[col])\n",
    "    \n",
    "    return df"
   ]
  },
  {
   "cell_type": "code",
   "execution_count": null,
   "id": "3743e956",
   "metadata": {
    "ExecuteTime": {
     "end_time": "2022-03-20T17:56:14.172506Z",
     "start_time": "2022-03-20T17:56:14.110744Z"
    }
   },
   "outputs": [],
   "source": [
    "encoders = {'UserId': user_mm.model, 'ProductId': item_mm.model}"
   ]
  },
  {
   "cell_type": "code",
   "execution_count": null,
   "id": "1c7ba945",
   "metadata": {
    "ExecuteTime": {
     "end_time": "2022-03-20T17:56:16.434229Z",
     "start_time": "2022-03-20T17:56:16.085755Z"
    }
   },
   "outputs": [],
   "source": [
    "known = transformer(known, encoders)"
   ]
  },
  {
   "cell_type": "code",
   "execution_count": null,
   "id": "2f716ed8",
   "metadata": {
    "ExecuteTime": {
     "end_time": "2022-03-20T17:56:18.423930Z",
     "start_time": "2022-03-20T17:56:18.346927Z"
    }
   },
   "outputs": [],
   "source": [
    "known"
   ]
  },
  {
   "cell_type": "code",
   "execution_count": null,
   "id": "80b37908",
   "metadata": {
    "ExecuteTime": {
     "end_time": "2022-03-20T17:56:20.584942Z",
     "start_time": "2022-03-20T17:56:20.323050Z"
    }
   },
   "outputs": [],
   "source": [
    "test_data = Dataset.load_from_df(known[['UserId', 'ProductId', 'Score']], reader)"
   ]
  },
  {
   "cell_type": "code",
   "execution_count": null,
   "id": "28b26559",
   "metadata": {
    "ExecuteTime": {
     "end_time": "2022-03-20T17:55:15.748365Z",
     "start_time": "2022-03-20T17:55:15.675218Z"
    }
   },
   "outputs": [],
   "source": [
    "test_data.df"
   ]
  },
  {
   "cell_type": "code",
   "execution_count": null,
   "id": "477dcf90",
   "metadata": {
    "ExecuteTime": {
     "end_time": "2022-03-20T17:57:45.782200Z",
     "start_time": "2022-03-20T17:56:59.672484Z"
    }
   },
   "outputs": [],
   "source": [
    "predictions = svd.test([test_data.df.iloc[i].to_list() for i in range(len(test_data.df))])"
   ]
  },
  {
   "cell_type": "code",
   "execution_count": null,
   "id": "2dd970fc",
   "metadata": {
    "ExecuteTime": {
     "end_time": "2022-03-20T18:00:20.077006Z",
     "start_time": "2022-03-20T18:00:20.013697Z"
    }
   },
   "outputs": [],
   "source": [
    "def approximation(x):\n",
    "    res = int(x * 10) % 10\n",
    "    if res >= 5:\n",
    "        return int(x) + 1\n",
    "    else:\n",
    "        return int(x)"
   ]
  },
  {
   "cell_type": "code",
   "execution_count": null,
   "id": "8382989c",
   "metadata": {
    "ExecuteTime": {
     "end_time": "2022-03-20T18:00:40.774855Z",
     "start_time": "2022-03-20T18:00:40.466014Z"
    }
   },
   "outputs": [],
   "source": [
    "known['Score'] = [approximation(i.est) for i in predictions]"
   ]
  },
  {
   "cell_type": "code",
   "execution_count": null,
   "id": "02fa85f7",
   "metadata": {
    "ExecuteTime": {
     "end_time": "2022-03-20T18:05:51.527677Z",
     "start_time": "2022-03-20T18:05:51.414818Z"
    }
   },
   "outputs": [],
   "source": [
    "knn_sub = pd.read_csv('../knn/submission.csv')"
   ]
  },
  {
   "cell_type": "code",
   "execution_count": null,
   "id": "2b1e17fe",
   "metadata": {
    "ExecuteTime": {
     "end_time": "2022-03-20T18:07:05.814065Z",
     "start_time": "2022-03-20T18:07:05.642732Z"
    }
   },
   "outputs": [],
   "source": [
    "final_d = knn_sub.set_index('Id')['Score'].to_dict()"
   ]
  },
  {
   "cell_type": "code",
   "execution_count": null,
   "id": "d7518a9b",
   "metadata": {
    "ExecuteTime": {
     "end_time": "2022-03-20T18:07:17.514457Z",
     "start_time": "2022-03-20T18:07:17.322184Z"
    }
   },
   "outputs": [],
   "source": [
    "final_d.update(known.set_index('Id')['Score'].to_dict())"
   ]
  },
  {
   "cell_type": "code",
   "execution_count": null,
   "id": "60e9ecd1",
   "metadata": {
    "ExecuteTime": {
     "end_time": "2022-03-20T18:07:48.668427Z",
     "start_time": "2022-03-20T18:07:48.493942Z"
    }
   },
   "outputs": [],
   "source": [
    "knn_sub['Score'] = knn_sub.Id.map(final_d)"
   ]
  },
  {
   "cell_type": "code",
   "execution_count": null,
   "id": "41037631",
   "metadata": {
    "ExecuteTime": {
     "end_time": "2022-03-20T18:09:45.477338Z",
     "start_time": "2022-03-20T18:09:45.099574Z"
    }
   },
   "outputs": [],
   "source": [
    "knn_sub.to_csv('./submission.csv', index=False)"
   ]
  },
  {
   "cell_type": "code",
   "execution_count": null,
   "id": "43f8a642",
   "metadata": {
    "ExecuteTime": {
     "end_time": "2022-03-20T18:11:48.818312Z",
     "start_time": "2022-03-20T18:11:48.752222Z"
    }
   },
   "outputs": [],
   "source": [
    "svd.qi.shape"
   ]
  },
  {
   "cell_type": "code",
   "execution_count": null,
   "id": "66c63101",
   "metadata": {},
   "outputs": [],
   "source": []
  },
  {
   "cell_type": "code",
   "execution_count": null,
   "id": "9f0098dc",
   "metadata": {
    "ExecuteTime": {
     "end_time": "2022-03-20T18:12:07.261728Z",
     "start_time": "2022-03-20T18:12:07.206291Z"
    }
   },
   "outputs": [],
   "source": [
    "svd.pu.shape"
   ]
  },
  {
   "cell_type": "code",
   "execution_count": null,
   "id": "ad466d6e",
   "metadata": {
    "ExecuteTime": {
     "end_time": "2022-03-20T18:12:42.105742Z",
     "start_time": "2022-03-20T18:12:42.020726Z"
    }
   },
   "outputs": [],
   "source": [
    "len(train.UserId.unique())"
   ]
  },
  {
   "cell_type": "code",
   "execution_count": null,
   "id": "cd075c70",
   "metadata": {
    "ExecuteTime": {
     "end_time": "2022-03-20T18:12:53.269497Z",
     "start_time": "2022-03-20T18:12:53.196205Z"
    }
   },
   "outputs": [],
   "source": [
    "len(train.ProductId.unique())"
   ]
  },
  {
   "cell_type": "code",
   "execution_count": null,
   "id": "0c2f460e",
   "metadata": {
    "ExecuteTime": {
     "end_time": "2022-03-20T18:16:39.640103Z",
     "start_time": "2022-03-20T18:16:39.582954Z"
    }
   },
   "outputs": [],
   "source": []
  },
  {
   "cell_type": "code",
   "execution_count": null,
   "id": "0bc8e2a3",
   "metadata": {},
   "outputs": [],
   "source": []
  }
 ],
 "metadata": {
  "kernelspec": {
   "display_name": "Python 3",
   "language": "python",
   "name": "python3"
  },
  "language_info": {
   "codemirror_mode": {
    "name": "ipython",
    "version": 3
   },
   "file_extension": ".py",
   "mimetype": "text/x-python",
   "name": "python",
   "nbconvert_exporter": "python",
   "pygments_lexer": "ipython3",
   "version": "3.8.11"
  },
  "varInspector": {
   "cols": {
    "lenName": 16,
    "lenType": 16,
    "lenVar": 40
   },
   "kernels_config": {
    "python": {
     "delete_cmd_postfix": "",
     "delete_cmd_prefix": "del ",
     "library": "var_list.py",
     "varRefreshCmd": "print(var_dic_list())"
    },
    "r": {
     "delete_cmd_postfix": ") ",
     "delete_cmd_prefix": "rm(",
     "library": "var_list.r",
     "varRefreshCmd": "cat(var_dic_list()) "
    }
   },
   "types_to_exclude": [
    "module",
    "function",
    "builtin_function_or_method",
    "instance",
    "_Feature"
   ],
   "window_display": false
  }
 },
 "nbformat": 4,
 "nbformat_minor": 5
}
