{
 "cells": [
  {
   "cell_type": "code",
   "execution_count": 1,
   "id": "d13693c7",
   "metadata": {
    "ExecuteTime": {
     "end_time": "2022-03-22T13:18:49.183798Z",
     "start_time": "2022-03-22T13:18:48.924085Z"
    }
   },
   "outputs": [],
   "source": [
    "import numpy as np\n",
    "import pandas as pd"
   ]
  },
  {
   "cell_type": "code",
   "execution_count": 2,
   "id": "600d59a7",
   "metadata": {
    "ExecuteTime": {
     "end_time": "2022-03-22T13:19:01.116442Z",
     "start_time": "2022-03-22T13:18:49.215406Z"
    }
   },
   "outputs": [],
   "source": [
    "train = pd.read_csv('../data/X_train.csv')"
   ]
  },
  {
   "cell_type": "code",
   "execution_count": 3,
   "id": "dd3455e2",
   "metadata": {
    "ExecuteTime": {
     "end_time": "2022-03-22T13:19:01.163032Z",
     "start_time": "2022-03-22T13:19:01.148542Z"
    }
   },
   "outputs": [],
   "source": [
    "import sys\n",
    "sys.path.append('../tools/')"
   ]
  },
  {
   "cell_type": "code",
   "execution_count": 4,
   "id": "87f03763",
   "metadata": {
    "ExecuteTime": {
     "end_time": "2022-03-22T13:19:01.270316Z",
     "start_time": "2022-03-22T13:19:01.194440Z"
    }
   },
   "outputs": [],
   "source": [
    "from model_manager import model_manager as mm"
   ]
  },
  {
   "cell_type": "code",
   "execution_count": 5,
   "id": "d00ec8f5",
   "metadata": {
    "ExecuteTime": {
     "end_time": "2022-03-22T13:19:01.315757Z",
     "start_time": "2022-03-22T13:19:01.301512Z"
    }
   },
   "outputs": [],
   "source": [
    "svd = mm('svd_model', '../models/')\n",
    "user_encoder = mm('user_encoder', '../models/')\n",
    "item_encoder = mm('item_encoder', '../models/')\n",
    "tv = mm('tv', '../models/')"
   ]
  },
  {
   "cell_type": "code",
   "execution_count": 6,
   "id": "1adcf030",
   "metadata": {
    "ExecuteTime": {
     "end_time": "2022-03-22T13:19:01.361908Z",
     "start_time": "2022-03-22T13:19:01.347368Z"
    }
   },
   "outputs": [],
   "source": [
    "models = {'tv': tv, 'user': user_encoder, 'item': item_encoder, 'svd': svd}"
   ]
  },
  {
   "cell_type": "code",
   "execution_count": 7,
   "id": "a8da7416",
   "metadata": {
    "ExecuteTime": {
     "end_time": "2022-03-22T13:19:12.786642Z",
     "start_time": "2022-03-22T13:19:01.394796Z"
    }
   },
   "outputs": [
    {
     "name": "stdout",
     "output_type": "stream",
     "text": [
      "Done\n",
      "Done\n",
      "Done\n",
      "Done\n"
     ]
    }
   ],
   "source": [
    "for _, model in models.items():\n",
    "    model.load()"
   ]
  },
  {
   "cell_type": "code",
   "execution_count": 8,
   "id": "efbba5ab",
   "metadata": {
    "ExecuteTime": {
     "end_time": "2022-03-22T13:19:12.832945Z",
     "start_time": "2022-03-22T13:19:12.818459Z"
    }
   },
   "outputs": [],
   "source": [
    "models = {name: model.model for name, model in models.items()}"
   ]
  },
  {
   "cell_type": "code",
   "execution_count": 9,
   "id": "6b166772",
   "metadata": {
    "ExecuteTime": {
     "end_time": "2022-03-22T13:19:13.202686Z",
     "start_time": "2022-03-22T13:19:12.864821Z"
    }
   },
   "outputs": [],
   "source": [
    "train = train.sample(500000)"
   ]
  },
  {
   "cell_type": "code",
   "execution_count": 10,
   "id": "1b6e84e6",
   "metadata": {
    "ExecuteTime": {
     "end_time": "2022-03-22T13:19:13.849198Z",
     "start_time": "2022-03-22T13:19:13.234827Z"
    }
   },
   "outputs": [],
   "source": [
    "train['UserId'] = models['user'].transform(train['UserId'])\n",
    "train['ProductId'] = models['item'].transform(train['ProductId'])"
   ]
  },
  {
   "cell_type": "code",
   "execution_count": 11,
   "id": "4d273cb3",
   "metadata": {
    "ExecuteTime": {
     "end_time": "2022-03-22T13:19:27.290415Z",
     "start_time": "2022-03-22T13:19:13.881017Z"
    }
   },
   "outputs": [],
   "source": [
    "train['sentiment'] = train.sentiment.apply(eval)\n",
    "train['sum_sentiment'] = train.sum_sentiment.apply(eval)"
   ]
  },
  {
   "cell_type": "code",
   "execution_count": 12,
   "id": "12fe46d7",
   "metadata": {
    "ExecuteTime": {
     "end_time": "2022-03-22T13:19:28.537768Z",
     "start_time": "2022-03-22T13:19:27.322382Z"
    }
   },
   "outputs": [],
   "source": [
    "train['sentiment'] = train.sentiment.apply(np.array)\n",
    "train['sum_sentiment'] = train.sum_sentiment.apply(np.array)"
   ]
  },
  {
   "cell_type": "code",
   "execution_count": 13,
   "id": "34598ef1",
   "metadata": {
    "ExecuteTime": {
     "end_time": "2022-03-22T13:19:28.599443Z",
     "start_time": "2022-03-22T13:19:28.585365Z"
    }
   },
   "outputs": [],
   "source": [
    "## user item text helpfulnum helpfulden senti sum_senti"
   ]
  },
  {
   "cell_type": "code",
   "execution_count": 14,
   "id": "2e246867",
   "metadata": {
    "ExecuteTime": {
     "end_time": "2022-03-22T13:19:30.016052Z",
     "start_time": "2022-03-22T13:19:28.631757Z"
    }
   },
   "outputs": [],
   "source": [
    "m = np.concatenate([train[['HelpfulnessNumerator', 'HelpfulnessDenominator']].values, np.stack(train.values[:, -2]), np.stack(train.values[:, -1])],axis=1)"
   ]
  },
  {
   "cell_type": "code",
   "execution_count": 15,
   "id": "78585c03",
   "metadata": {
    "ExecuteTime": {
     "end_time": "2022-03-22T13:19:30.477810Z",
     "start_time": "2022-03-22T13:19:30.047806Z"
    }
   },
   "outputs": [],
   "source": [
    "from text_preprocessor import preprocessor as pps"
   ]
  },
  {
   "cell_type": "code",
   "execution_count": 16,
   "id": "decc041c",
   "metadata": {
    "ExecuteTime": {
     "end_time": "2022-03-22T13:19:30.523995Z",
     "start_time": "2022-03-22T13:19:30.509515Z"
    }
   },
   "outputs": [],
   "source": [
    "p = pps()"
   ]
  },
  {
   "cell_type": "code",
   "execution_count": 17,
   "id": "b7310fd5",
   "metadata": {
    "ExecuteTime": {
     "end_time": "2022-03-22T13:19:30.616326Z",
     "start_time": "2022-03-22T13:19:30.555738Z"
    }
   },
   "outputs": [],
   "source": [
    "s = list(train[['Text']].values)"
   ]
  },
  {
   "cell_type": "code",
   "execution_count": 18,
   "id": "e3b2bf5d",
   "metadata": {
    "ExecuteTime": {
     "end_time": "2022-03-22T13:43:11.183023Z",
     "start_time": "2022-03-22T13:19:56.684957Z"
    }
   },
   "outputs": [
    {
     "name": "stderr",
     "output_type": "stream",
     "text": [
      "100%|██████████| 500000/500000 [23:14<00:00, 358.57it/s]\n"
     ]
    }
   ],
   "source": [
    "s = p.fit_transform(s)"
   ]
  },
  {
   "cell_type": "code",
   "execution_count": 19,
   "id": "19f48594",
   "metadata": {
    "ExecuteTime": {
     "end_time": "2022-03-22T13:43:13.185287Z",
     "start_time": "2022-03-22T13:43:13.171428Z"
    }
   },
   "outputs": [],
   "source": [
    "from scipy import sparse"
   ]
  },
  {
   "cell_type": "code",
   "execution_count": 20,
   "id": "8cc6a74c",
   "metadata": {
    "ExecuteTime": {
     "end_time": "2022-03-22T13:43:15.294675Z",
     "start_time": "2022-03-22T13:43:15.219050Z"
    }
   },
   "outputs": [],
   "source": [
    "m = sparse.csr_matrix(m)"
   ]
  },
  {
   "cell_type": "code",
   "execution_count": 21,
   "id": "44441f4a",
   "metadata": {
    "ExecuteTime": {
     "end_time": "2022-03-22T13:43:40.883479Z",
     "start_time": "2022-03-22T13:43:17.359093Z"
    }
   },
   "outputs": [],
   "source": [
    "m = sparse.hstack([models['tv'].transform(s), m])"
   ]
  },
  {
   "cell_type": "code",
   "execution_count": 22,
   "id": "6f26d2dc",
   "metadata": {
    "ExecuteTime": {
     "end_time": "2022-03-22T13:43:43.901239Z",
     "start_time": "2022-03-22T13:43:42.886606Z"
    }
   },
   "outputs": [],
   "source": [
    "m = sparse.hstack([sparse.csr_matrix(models['svd'].pu[train.UserId.values]), sparse.csr_matrix(models['svd'].qi[train.ProductId.values]), m])"
   ]
  },
  {
   "cell_type": "code",
   "execution_count": 23,
   "id": "88aeee1d",
   "metadata": {
    "ExecuteTime": {
     "end_time": "2022-03-22T13:43:45.949035Z",
     "start_time": "2022-03-22T13:43:45.935626Z"
    }
   },
   "outputs": [
    {
     "data": {
      "text/plain": [
       "(500000, 445)"
      ]
     },
     "execution_count": 23,
     "metadata": {},
     "output_type": "execute_result"
    }
   ],
   "source": [
    "m.shape"
   ]
  },
  {
   "cell_type": "code",
   "execution_count": 24,
   "id": "159b11e2",
   "metadata": {
    "ExecuteTime": {
     "end_time": "2022-03-22T13:43:53.418523Z",
     "start_time": "2022-03-22T13:43:47.984021Z"
    }
   },
   "outputs": [],
   "source": [
    "np.savez('../data/train_matrix', X = m, y = train['Score'].values)"
   ]
  }
 ],
 "metadata": {
  "kernelspec": {
   "display_name": "Python 3",
   "language": "python",
   "name": "python3"
  },
  "language_info": {
   "codemirror_mode": {
    "name": "ipython",
    "version": 3
   },
   "file_extension": ".py",
   "mimetype": "text/x-python",
   "name": "python",
   "nbconvert_exporter": "python",
   "pygments_lexer": "ipython3",
   "version": "3.8.11"
  },
  "varInspector": {
   "cols": {
    "lenName": 16,
    "lenType": 16,
    "lenVar": 40
   },
   "kernels_config": {
    "python": {
     "delete_cmd_postfix": "",
     "delete_cmd_prefix": "del ",
     "library": "var_list.py",
     "varRefreshCmd": "print(var_dic_list())"
    },
    "r": {
     "delete_cmd_postfix": ") ",
     "delete_cmd_prefix": "rm(",
     "library": "var_list.r",
     "varRefreshCmd": "cat(var_dic_list()) "
    }
   },
   "types_to_exclude": [
    "module",
    "function",
    "builtin_function_or_method",
    "instance",
    "_Feature"
   ],
   "window_display": false
  }
 },
 "nbformat": 4,
 "nbformat_minor": 5
}
