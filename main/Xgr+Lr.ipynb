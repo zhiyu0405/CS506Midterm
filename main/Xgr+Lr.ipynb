{
 "cells": [
  {
   "cell_type": "code",
   "execution_count": 1,
   "id": "42f9508d",
   "metadata": {
    "ExecuteTime": {
     "end_time": "2022-03-22T08:19:35.685808Z",
     "start_time": "2022-03-22T08:19:34.098042Z"
    }
   },
   "outputs": [],
   "source": [
    "import numpy as np\n",
    "import pandas as pd\n",
    "import matplotlib.pyplot as plt \n",
    "from sklearn.model_selection import GridSearchCV \n",
    "\n",
    "import xgboost as xgb\n",
    "from xgboost.sklearn import XGBRegressor\n",
    "from sklearn.ensemble import GradientBoostingRegressor\n",
    "from sklearn.linear_model import LinearRegression\n",
    "from sklearn.model_selection import train_test_split, cross_val_score"
   ]
  },
  {
   "cell_type": "code",
   "execution_count": 2,
   "id": "8df4ec68",
   "metadata": {
    "ExecuteTime": {
     "end_time": "2022-03-22T08:19:35.748089Z",
     "start_time": "2022-03-22T08:19:35.733350Z"
    }
   },
   "outputs": [],
   "source": [
    "data = np.load('../data/train_50000.npz', allow_pickle = True)"
   ]
  },
  {
   "cell_type": "code",
   "execution_count": 3,
   "id": "2952ce5b",
   "metadata": {
    "ExecuteTime": {
     "end_time": "2022-03-22T08:19:35.809709Z",
     "start_time": "2022-03-22T08:19:35.794759Z"
    }
   },
   "outputs": [],
   "source": [
    "from scipy import sparse"
   ]
  },
  {
   "cell_type": "code",
   "execution_count": 4,
   "id": "40f16d9c",
   "metadata": {
    "ExecuteTime": {
     "end_time": "2022-03-22T08:19:39.939018Z",
     "start_time": "2022-03-22T08:19:35.857328Z"
    }
   },
   "outputs": [],
   "source": [
    "X = data['X'].item()\n",
    "y = data['y']"
   ]
  },
  {
   "cell_type": "code",
   "execution_count": 5,
   "id": "7ec8c485",
   "metadata": {
    "ExecuteTime": {
     "end_time": "2022-03-22T08:19:41.461962Z",
     "start_time": "2022-03-22T08:19:41.444156Z"
    }
   },
   "outputs": [
    {
     "data": {
      "text/plain": [
       "(500000, 1396)"
      ]
     },
     "execution_count": 5,
     "metadata": {},
     "output_type": "execute_result"
    }
   ],
   "source": [
    "X.shape"
   ]
  },
  {
   "cell_type": "code",
   "execution_count": null,
   "id": "4e0f7252",
   "metadata": {
    "ExecuteTime": {
     "end_time": "2022-03-22T04:53:05.132316Z",
     "start_time": "2022-03-22T04:53:02.503047Z"
    }
   },
   "outputs": [],
   "source": [
    "# X_train, X_test, y_train, y_test = train_test_split(X, y, test_size=0.2, random_state=3)"
   ]
  },
  {
   "cell_type": "code",
   "execution_count": null,
   "id": "7db2dab2",
   "metadata": {
    "ExecuteTime": {
     "end_time": "2022-03-22T03:10:40.219566Z",
     "start_time": "2022-03-22T03:10:40.205612Z"
    }
   },
   "outputs": [],
   "source": [
    "# dtrain = xgb.DMatrix(X_train, y_train, feature_names=list([str(i) for i in range(X.shape[1])]))\n",
    "# dtest = xgb.DMatrix(X_test, y_test, feature_names=list([str(i) for i in range(X.shape[1])]))"
   ]
  },
  {
   "cell_type": "code",
   "execution_count": null,
   "id": "0a88d402",
   "metadata": {
    "ExecuteTime": {
     "end_time": "2022-03-22T04:57:52.969978Z",
     "start_time": "2022-03-22T04:57:52.925851Z"
    }
   },
   "outputs": [],
   "source": [
    "import gc\n",
    "del data\n",
    "gc.collect()"
   ]
  },
  {
   "cell_type": "code",
   "execution_count": null,
   "id": "113bf13f",
   "metadata": {
    "ExecuteTime": {
     "end_time": "2022-03-22T04:57:54.092502Z",
     "start_time": "2022-03-22T04:57:54.080080Z"
    }
   },
   "outputs": [],
   "source": [
    "params1 = {'objective':['reg:linear'],\n",
    "            'learning_rate': [.07], #so called `eta` value\n",
    "            'n_estimators': [500],\n",
    "            'max_depth': [5],\n",
    "            'gamma': [0],\n",
    "            'min_child_weight': [3],\n",
    "            'subsample': [0.7],\n",
    "            'colsample_bytree': [0.6],\n",
    "            'reg_alpha':[1],\n",
    "            'tree_method': ['gpu_hist'],\n",
    "            'gpu_id': [0]}"
   ]
  },
  {
   "cell_type": "code",
   "execution_count": null,
   "id": "210f226e",
   "metadata": {
    "ExecuteTime": {
     "end_time": "2022-03-22T04:57:55.324266Z",
     "start_time": "2022-03-22T04:57:55.312763Z"
    }
   },
   "outputs": [],
   "source": [
    "xgr = XGBRegressor(objective ='reg:linear',\n",
    "            learning_rate = .07, #so called `eta` value\n",
    "            n_estimators = 500,\n",
    "            max_depth = 5,\n",
    "            gamma = 0,\n",
    "            min_child_weight = 3,\n",
    "            subsample = 0.7,\n",
    "            colsample_bytree = 0.6,\n",
    "            reg_alpha = 1,\n",
    "            tree_method = 'gpu_hist',\n",
    "            gpu_id = 0)"
   ]
  },
  {
   "cell_type": "code",
   "execution_count": null,
   "id": "6b9c8481",
   "metadata": {
    "ExecuteTime": {
     "end_time": "2022-03-22T04:58:26.403496Z",
     "start_time": "2022-03-22T04:57:58.902778Z"
    }
   },
   "outputs": [],
   "source": [
    "xgr.fit(X, y)"
   ]
  },
  {
   "cell_type": "code",
   "execution_count": null,
   "id": "a0ade1d4",
   "metadata": {
    "ExecuteTime": {
     "end_time": "2022-03-22T04:58:40.233996Z",
     "start_time": "2022-03-22T04:58:40.221846Z"
    }
   },
   "outputs": [],
   "source": [
    "import sys\n",
    "sys.path.append('../tools/')\n",
    "from model_manager import model_manager as mm"
   ]
  },
  {
   "cell_type": "code",
   "execution_count": null,
   "id": "0af10653",
   "metadata": {
    "ExecuteTime": {
     "end_time": "2022-03-22T04:59:23.878703Z",
     "start_time": "2022-03-22T04:59:23.865293Z"
    }
   },
   "outputs": [],
   "source": [
    "xgb = mm('xgr', '../models/', xgr)"
   ]
  },
  {
   "cell_type": "code",
   "execution_count": null,
   "id": "4e4aefa7",
   "metadata": {
    "ExecuteTime": {
     "end_time": "2022-03-22T04:59:48.311456Z",
     "start_time": "2022-03-22T04:59:48.245348Z"
    }
   },
   "outputs": [],
   "source": [
    "xgb.load()"
   ]
  },
  {
   "cell_type": "code",
   "execution_count": null,
   "id": "174e6574",
   "metadata": {
    "ExecuteTime": {
     "end_time": "2022-03-22T05:02:30.842232Z",
     "start_time": "2022-03-22T05:02:23.952204Z"
    }
   },
   "outputs": [],
   "source": [
    "res = xgb.model.apply(X)"
   ]
  },
  {
   "cell_type": "code",
   "execution_count": null,
   "id": "93ba69de",
   "metadata": {
    "ExecuteTime": {
     "end_time": "2022-03-22T05:05:17.499759Z",
     "start_time": "2022-03-22T05:05:17.487839Z"
    }
   },
   "outputs": [],
   "source": [
    "lr = LinearRegression(fit_intercept = True, normalize = False, copy_X=True, n_jobs = 5)"
   ]
  },
  {
   "cell_type": "code",
   "execution_count": null,
   "id": "fda6f9ad",
   "metadata": {
    "ExecuteTime": {
     "end_time": "2022-03-22T05:07:01.538945Z",
     "start_time": "2022-03-22T05:07:01.276675Z"
    }
   },
   "outputs": [],
   "source": [
    "X_train, X_test, y_train, y_test = train_test_split(res, y, test_size=0.2, random_state=3)"
   ]
  },
  {
   "cell_type": "code",
   "execution_count": null,
   "id": "4b93fb51",
   "metadata": {
    "ExecuteTime": {
     "end_time": "2022-03-22T05:07:08.311951Z",
     "start_time": "2022-03-22T05:07:02.265220Z"
    }
   },
   "outputs": [],
   "source": [
    "lr.fit(X_train, y_train)"
   ]
  },
  {
   "cell_type": "code",
   "execution_count": null,
   "id": "1e94e484",
   "metadata": {
    "ExecuteTime": {
     "end_time": "2022-03-22T05:09:42.050870Z",
     "start_time": "2022-03-22T05:09:41.828751Z"
    }
   },
   "outputs": [],
   "source": [
    "lr.score(X_train, y_train)"
   ]
  },
  {
   "cell_type": "code",
   "execution_count": null,
   "id": "c3ad076d",
   "metadata": {
    "ExecuteTime": {
     "end_time": "2022-03-22T05:09:49.222275Z",
     "start_time": "2022-03-22T05:09:49.148424Z"
    }
   },
   "outputs": [],
   "source": [
    "lr.score(X_test, y_test)"
   ]
  },
  {
   "cell_type": "code",
   "execution_count": null,
   "id": "546c6551",
   "metadata": {
    "ExecuteTime": {
     "end_time": "2022-03-22T05:10:21.422933Z",
     "start_time": "2022-03-22T05:10:13.666988Z"
    }
   },
   "outputs": [],
   "source": [
    "lr.fit(res, y)"
   ]
  },
  {
   "cell_type": "code",
   "execution_count": null,
   "id": "33b2fd2f",
   "metadata": {
    "ExecuteTime": {
     "end_time": "2022-03-22T05:10:49.640357Z",
     "start_time": "2022-03-22T05:10:49.634895Z"
    }
   },
   "outputs": [],
   "source": [
    "lr_mm = mm('Linear_regression', '../models/', lr)"
   ]
  },
  {
   "cell_type": "code",
   "execution_count": null,
   "id": "946c28dd",
   "metadata": {
    "ExecuteTime": {
     "end_time": "2022-03-22T05:10:55.050368Z",
     "start_time": "2022-03-22T05:10:55.032479Z"
    }
   },
   "outputs": [],
   "source": [
    "lr_mm.save()"
   ]
  },
  {
   "cell_type": "code",
   "execution_count": null,
   "id": "bff47235",
   "metadata": {},
   "outputs": [],
   "source": []
  },
  {
   "cell_type": "code",
   "execution_count": null,
   "id": "c3602e47",
   "metadata": {},
   "outputs": [],
   "source": []
  },
  {
   "cell_type": "code",
   "execution_count": null,
   "id": "d9a588a7",
   "metadata": {},
   "outputs": [],
   "source": []
  },
  {
   "cell_type": "code",
   "execution_count": null,
   "id": "f83b8cb1",
   "metadata": {
    "ExecuteTime": {
     "end_time": "2022-03-22T04:00:26.919495Z",
     "start_time": "2022-03-22T04:00:26.905733Z"
    }
   },
   "outputs": [],
   "source": [
    "xgr = XGBRegressor()\n",
    "\n",
    "xgb_grid = GridSearchCV(xgr, params1, cv = 3, n_jobs = 3, verbose=10)"
   ]
  },
  {
   "cell_type": "code",
   "execution_count": null,
   "id": "0387fa7d",
   "metadata": {
    "ExecuteTime": {
     "end_time": "2022-03-22T03:10:48.036578Z",
     "start_time": "2022-03-22T03:10:48.020995Z"
    }
   },
   "outputs": [],
   "source": [
    "# gpu test\n",
    "xgr = XGBRegressor(tree_method='gpu_hist', gpu_id=0)\n",
    "xgr.fit(X_train, y_train)"
   ]
  },
  {
   "cell_type": "code",
   "execution_count": null,
   "id": "10946860",
   "metadata": {
    "ExecuteTime": {
     "end_time": "2022-03-22T04:05:12.876608Z",
     "start_time": "2022-03-22T04:00:28.737390Z"
    }
   },
   "outputs": [],
   "source": [
    "xgb_grid.fit(X_train, y_train)"
   ]
  },
  {
   "cell_type": "code",
   "execution_count": null,
   "id": "6a17a596",
   "metadata": {
    "ExecuteTime": {
     "end_time": "2022-03-22T04:05:15.109117Z",
     "start_time": "2022-03-22T04:05:15.095211Z"
    }
   },
   "outputs": [],
   "source": [
    "print(xgb_grid.best_score_)\n",
    "print(xgb_grid.best_params_)"
   ]
  },
  {
   "cell_type": "code",
   "execution_count": null,
   "id": "6c10e7f3",
   "metadata": {},
   "outputs": [],
   "source": []
  }
 ],
 "metadata": {
  "kernelspec": {
   "display_name": "Python 3",
   "language": "python",
   "name": "python3"
  },
  "language_info": {
   "codemirror_mode": {
    "name": "ipython",
    "version": 3
   },
   "file_extension": ".py",
   "mimetype": "text/x-python",
   "name": "python",
   "nbconvert_exporter": "python",
   "pygments_lexer": "ipython3",
   "version": "3.8.11"
  },
  "varInspector": {
   "cols": {
    "lenName": 16,
    "lenType": 16,
    "lenVar": 40
   },
   "kernels_config": {
    "python": {
     "delete_cmd_postfix": "",
     "delete_cmd_prefix": "del ",
     "library": "var_list.py",
     "varRefreshCmd": "print(var_dic_list())"
    },
    "r": {
     "delete_cmd_postfix": ") ",
     "delete_cmd_prefix": "rm(",
     "library": "var_list.r",
     "varRefreshCmd": "cat(var_dic_list()) "
    }
   },
   "types_to_exclude": [
    "module",
    "function",
    "builtin_function_or_method",
    "instance",
    "_Feature"
   ],
   "window_display": false
  }
 },
 "nbformat": 4,
 "nbformat_minor": 5
}
