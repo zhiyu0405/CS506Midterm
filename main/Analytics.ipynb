{
 "cells": [
  {
   "cell_type": "code",
   "execution_count": null,
   "id": "5e933c58",
   "metadata": {
    "ExecuteTime": {
     "end_time": "2022-03-24T01:14:52.694791Z",
     "start_time": "2022-03-24T01:14:41.018740Z"
    }
   },
   "outputs": [],
   "source": [
    "import pandas as pd\n",
    "df = pd.read_csv('../data/X_train.csv')"
   ]
  },
  {
   "cell_type": "code",
   "execution_count": null,
   "id": "8b0bd606",
   "metadata": {
    "ExecuteTime": {
     "end_time": "2022-03-24T01:14:52.941900Z",
     "start_time": "2022-03-24T01:14:52.695792Z"
    }
   },
   "outputs": [],
   "source": [
    "import matplotlib.pyplot as plt"
   ]
  },
  {
   "cell_type": "code",
   "execution_count": null,
   "id": "d44d1503",
   "metadata": {
    "ExecuteTime": {
     "end_time": "2022-03-24T01:14:53.281561Z",
     "start_time": "2022-03-24T01:14:52.942895Z"
    }
   },
   "outputs": [],
   "source": [
    "df.isna().sum()/len(df)"
   ]
  },
  {
   "cell_type": "code",
   "execution_count": null,
   "id": "14e02428",
   "metadata": {
    "ExecuteTime": {
     "end_time": "2022-03-24T01:14:54.223560Z",
     "start_time": "2022-03-24T01:14:53.282563Z"
    }
   },
   "outputs": [],
   "source": [
    "df[['ProductId', 'Text']].groupby('ProductId').count().nlargest(50, 'Text').plot(kind = 'bar')\n",
    "plt.show()"
   ]
  },
  {
   "cell_type": "code",
   "execution_count": null,
   "id": "ba52517a",
   "metadata": {
    "ExecuteTime": {
     "end_time": "2022-03-24T01:14:55.094558Z",
     "start_time": "2022-03-24T01:14:54.224554Z"
    }
   },
   "outputs": [],
   "source": [
    "df[['UserId', 'Text']].groupby('UserId').count().nlargest(50, 'Text').plot(kind = 'bar')\n",
    "plt.show()"
   ]
  },
  {
   "cell_type": "code",
   "execution_count": null,
   "id": "9f17e404",
   "metadata": {
    "ExecuteTime": {
     "end_time": "2022-03-24T01:14:55.420561Z",
     "start_time": "2022-03-24T01:14:55.095553Z"
    }
   },
   "outputs": [],
   "source": [
    "df[['Score', 'Text']].groupby('Score').count().plot(kind = 'bar')\n",
    "plt.show()"
   ]
  },
  {
   "cell_type": "code",
   "execution_count": null,
   "id": "48b38421",
   "metadata": {
    "ExecuteTime": {
     "end_time": "2022-03-24T01:14:57.053964Z",
     "start_time": "2022-03-24T01:14:55.421559Z"
    }
   },
   "outputs": [],
   "source": [
    "gp = df[['UserId', 'Helpfulness']].groupby('UserId').filter(lambda x: len(x) > 50)"
   ]
  },
  {
   "cell_type": "code",
   "execution_count": null,
   "id": "dd5b5b1f",
   "metadata": {
    "ExecuteTime": {
     "end_time": "2022-03-24T01:14:57.442912Z",
     "start_time": "2022-03-24T01:14:57.055909Z"
    }
   },
   "outputs": [],
   "source": [
    "gp.groupby('UserId').mean().nlargest(50, 'Helpfulness').plot(kind = 'bar')\n",
    "plt.show()"
   ]
  },
  {
   "cell_type": "code",
   "execution_count": null,
   "id": "d7c453db",
   "metadata": {
    "ExecuteTime": {
     "end_time": "2022-03-24T01:15:27.602612Z",
     "start_time": "2022-03-24T01:15:27.590587Z"
    }
   },
   "outputs": [],
   "source": [
    "from wordcloud import WordCloud"
   ]
  },
  {
   "cell_type": "code",
   "execution_count": null,
   "id": "8857e704",
   "metadata": {
    "ExecuteTime": {
     "end_time": "2022-03-24T01:25:18.220946Z",
     "start_time": "2022-03-24T01:25:15.656023Z"
    }
   },
   "outputs": [],
   "source": [
    "wordcloud = WordCloud().generate(text = ';'.join(list(df.sample(5000).Text.astype(str).values)))"
   ]
  },
  {
   "cell_type": "code",
   "execution_count": null,
   "id": "b9d96800",
   "metadata": {
    "ExecuteTime": {
     "end_time": "2022-03-24T01:25:28.494755Z",
     "start_time": "2022-03-24T01:25:28.329757Z"
    }
   },
   "outputs": [],
   "source": [
    "plt.imshow(wordcloud, interpolation='bilinear')\n",
    "plt.axis(\"off\")\n",
    "plt.show()"
   ]
  }
 ],
 "metadata": {
  "kernelspec": {
   "display_name": "Python 3",
   "language": "python",
   "name": "python3"
  },
  "language_info": {
   "codemirror_mode": {
    "name": "ipython",
    "version": 3
   },
   "file_extension": ".py",
   "mimetype": "text/x-python",
   "name": "python",
   "nbconvert_exporter": "python",
   "pygments_lexer": "ipython3",
   "version": "3.8.11"
  },
  "varInspector": {
   "cols": {
    "lenName": 16,
    "lenType": 16,
    "lenVar": 40
   },
   "kernels_config": {
    "python": {
     "delete_cmd_postfix": "",
     "delete_cmd_prefix": "del ",
     "library": "var_list.py",
     "varRefreshCmd": "print(var_dic_list())"
    },
    "r": {
     "delete_cmd_postfix": ") ",
     "delete_cmd_prefix": "rm(",
     "library": "var_list.r",
     "varRefreshCmd": "cat(var_dic_list()) "
    }
   },
   "types_to_exclude": [
    "module",
    "function",
    "builtin_function_or_method",
    "instance",
    "_Feature"
   ],
   "window_display": false
  }
 },
 "nbformat": 4,
 "nbformat_minor": 5
}
